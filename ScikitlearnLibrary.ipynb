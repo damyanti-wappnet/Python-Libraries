{
 "cells": [
  {
   "cell_type": "markdown",
   "id": "14b0ed10",
   "metadata": {},
   "source": [
    "Scikit Learn is a very popular library in python. Scikit learn is a free and open source python library mainly used for the creation of Machine Learning applications.\n",
    "\n",
    "It is considered to be one of the most important libraries in all of the Python libraries.\n",
    "\n",
    "Scikit learn is usually used alongside other popular ibraries like Numpy, Pandas, even Matplotlib to add functionality.\n",
    "\n",
    "It was originally called scikits.learn and was initially developed by David Cournapeau as a Google summer of code project in 2007.Scikit learn was publicly released in 2010 with a v0.1 beta version which is very helpful for the programmers.\n",
    "\n",
    "The latest version is 0.23.1 of the scikit learn is released in May 2020. \n",
    "\n",
    "Scikit learn in python is mostly used in python for the modeling. It not focused on loading the data.\n",
    "\n",
    "To use sklearn library we need to install Python, Numpy, Pandas, Matplotlib, Scipy, joblib in our system. \n",
    "\n",
    "The benefit of scikit learn are :\n",
    "<li>\n",
    "<li>Open source</li>\n",
    "<li>Easy to use</li>\n",
    "<li>Free</li>\n",
    "<li>Properly documented</li>\n",
    "<li>Versatile used</li>\n",
    "</li>\n",
    "\n",
    "    \n",
    "install : pip install -U scikit-learn  \n",
    "\n",
    "import : import sklearn"
   ]
  },
  {
   "cell_type": "markdown",
   "id": "0435f15a",
   "metadata": {},
   "source": [
    "<h1>Advantages:</h1>\n",
    "    \n",
    "<br>\n",
    "<ol>    \n",
    "<li>The scikit learn library is a user-friendly and handy tool it can do multiple things such as prediction of customer behavior, creation of neuroimage, etc.</li>\n",
    "<li>It is easy to use and free to use.</li>\n",
    "<li>Scikit learn library is updated by the contributor and by the international online community.</li>\n",
    "<li>Scikit learn library provides the API documentation for the user who wants to integrate algorithm with his platform.</li>\n",
    "<li>The scikit learn library is spread under the BSD license which makes it free with legal and licensing restrictions the user can use it anytime without any hesitation and run this library on their platform.</li>\n",
    "<li>In scikit learn the documentation in the task is done in the proper way and this library is very extensive.</li>\n",
    "    </ol>"
   ]
  },
  {
   "cell_type": "markdown",
   "id": "8084bde7",
   "metadata": {},
   "source": [
    "# Loading Data"
   ]
  },
  {
   "cell_type": "code",
   "execution_count": 1,
   "id": "d78e3fef",
   "metadata": {},
   "outputs": [
    {
     "name": "stdout",
     "output_type": "stream",
     "text": [
      "Features name : ['sepal length (cm)', 'sepal width (cm)', 'petal length (cm)', 'petal width (cm)']\n",
      "Target_naems :  ['setosa' 'versicolor' 'virginica']\n",
      "\n",
      "First 5 rows : [[5.1 3.5 1.4 0.2]\n",
      " [4.9 3.  1.4 0.2]\n",
      " [4.7 3.2 1.3 0.2]\n",
      " [4.6 3.1 1.5 0.2]\n",
      " [5.  3.6 1.4 0.2]]\n"
     ]
    }
   ],
   "source": [
    "from sklearn.datasets import load_iris\n",
    "df = load_iris()\n",
    "x = df.data\n",
    "y = df.target\n",
    "\n",
    "features_names = df.feature_names\n",
    "target_names = df.target_names\n",
    "\n",
    "print(\"Features name :\", features_names)\n",
    "print(\"Target_naems : \", target_names)\n",
    "print()\n",
    "print(\"First 5 rows :\", x[:5])"
   ]
  },
  {
   "cell_type": "markdown",
   "id": "684a70c1",
   "metadata": {},
   "source": [
    "# Splitting the Dataset"
   ]
  },
  {
   "cell_type": "code",
   "execution_count": 2,
   "id": "dc767eff",
   "metadata": {},
   "outputs": [
    {
     "name": "stdout",
     "output_type": "stream",
     "text": [
      "(105, 4)\n",
      "(105,)\n",
      "(45, 4)\n",
      "(45,)\n"
     ]
    }
   ],
   "source": [
    "\n",
    "from sklearn.model_selection import train_test_split\n",
    "x_train, x_test, y_train, y_test = train_test_split(x, y, test_size = 0.30, random_state = 0)\n",
    "print(x_train.shape)\n",
    "print(y_train.shape)\n",
    "\n",
    "print(x_test.shape)\n",
    "print(y_test.shape)"
   ]
  },
  {
   "cell_type": "markdown",
   "id": "b9b08b7e",
   "metadata": {},
   "source": [
    "# Train the Model using KNN Algorithm"
   ]
  },
  {
   "cell_type": "code",
   "execution_count": 3,
   "id": "ef0de21c",
   "metadata": {},
   "outputs": [
    {
     "data": {
      "text/plain": [
       "KNeighborsClassifier(n_neighbors=4)"
      ]
     },
     "execution_count": 3,
     "metadata": {},
     "output_type": "execute_result"
    }
   ],
   "source": [
    "from sklearn.neighbors import KNeighborsClassifier\n",
    "model = KNeighborsClassifier(n_neighbors = 4)\n",
    "model.fit(x_train, y_train)"
   ]
  },
  {
   "cell_type": "code",
   "execution_count": 4,
   "id": "89df410e",
   "metadata": {},
   "outputs": [],
   "source": [
    "#Predict Output\n",
    "\n",
    "y_pred = model.predict(x_test)\n"
   ]
  },
  {
   "cell_type": "code",
   "execution_count": 5,
   "id": "3c0ecbb2",
   "metadata": {},
   "outputs": [
    {
     "name": "stdout",
     "output_type": "stream",
     "text": [
      "Accuracy is : 0.9777777777777777\n"
     ]
    }
   ],
   "source": [
    "# Check accuracy\n",
    "from sklearn import metrics\n",
    "print(\"Accuracy is :\", metrics.accuracy_score(y_test, y_pred) )\n",
    "# print(\"Accuracy:\", metrics.accuracy_score(y_test, y_pred))"
   ]
  },
  {
   "cell_type": "code",
   "execution_count": 6,
   "id": "d3a28bda",
   "metadata": {},
   "outputs": [
    {
     "name": "stdout",
     "output_type": "stream",
     "text": [
      "Predictions: ['setosa', 'versicolor']\n"
     ]
    }
   ],
   "source": [
    "# Predict output\n",
    "\n",
    "sample = [[5, 5, 3, 2], [2, 4, 3, 5]]\n",
    "preds = model.predict(sample)\n",
    "# print(preds)\n",
    "pred_species = [df.target_names[p] for p in preds] \n",
    "\n",
    "print(\"Predictions:\", pred_species)"
   ]
  },
  {
   "cell_type": "markdown",
   "id": "888fe964",
   "metadata": {},
   "source": [
    "# Linear Regression Model"
   ]
  },
  {
   "cell_type": "code",
   "execution_count": 7,
   "id": "4c904304",
   "metadata": {},
   "outputs": [
    {
     "data": {
      "text/plain": [
       "LinearRegression()"
      ]
     },
     "execution_count": 7,
     "metadata": {},
     "output_type": "execute_result"
    }
   ],
   "source": [
    "from sklearn.linear_model import LinearRegression\n",
    "model = LinearRegression()\n",
    "\n",
    "model.fit(x,y)\n"
   ]
  },
  {
   "cell_type": "code",
   "execution_count": 8,
   "id": "f9b4fb00",
   "metadata": {},
   "outputs": [
    {
     "name": "stdout",
     "output_type": "stream",
     "text": [
      "[-0.11190585 -0.04007949  0.22864503  0.60925205]\n",
      "0.18649524720624888\n"
     ]
    }
   ],
   "source": [
    "print(model.coef_)\n",
    "print(model.intercept_)"
   ]
  },
  {
   "cell_type": "code",
   "execution_count": 9,
   "id": "a9815b57",
   "metadata": {},
   "outputs": [
    {
     "data": {
      "text/plain": [
       "array([ 2.0535133 ,  0.95071742, -0.15536734,  1.79046937, -0.04448632,\n",
       "        2.24422636, -0.03329807,  1.30098933,  1.26376188,  1.09825476,\n",
       "        1.5330279 ,  1.28482413,  1.19738107,  1.31252984,  1.31522353,\n",
       "       -0.12510134,  1.34161032,  1.20394697,  0.03198734, -0.033167  ,\n",
       "        1.78646464,  1.38236471,  0.06935286,  0.01983243,  1.57460622,\n",
       "       -0.12206239,  0.14159972,  1.15164973,  0.8985638 ,  0.10022859,\n",
       "        1.70025272,  1.40474588, -0.07087544,  1.60064541,  1.97884189,\n",
       "        1.24103868, -0.03219801,  1.54773844,  1.28019945,  1.0789172 ,\n",
       "        1.84227394, -0.04862768,  1.85746781,  0.21807105, -0.10127251])"
      ]
     },
     "execution_count": 9,
     "metadata": {},
     "output_type": "execute_result"
    }
   ],
   "source": [
    "y_pred = model.predict(x_test)\n",
    "y_pred"
   ]
  },
  {
   "cell_type": "code",
   "execution_count": 10,
   "id": "be0db64e",
   "metadata": {},
   "outputs": [
    {
     "name": "stdout",
     "output_type": "stream",
     "text": [
      "0.05425047759995535\n",
      "0.18971361203692835\n",
      "0.23291731923572223\n"
     ]
    }
   ],
   "source": [
    "# Model Evaluation\n",
    "import numpy as np\n",
    "from sklearn import metrics\n",
    "print(metrics.mean_squared_error(y_test,y_pred))\n",
    "print(metrics.mean_absolute_error(y_test,y_pred))\n",
    "print(np.sqrt(metrics.mean_squared_error(y_test,y_pred)))"
   ]
  },
  {
   "cell_type": "markdown",
   "id": "35ee280b",
   "metadata": {},
   "source": [
    "# KMeans Clustering Model"
   ]
  },
  {
   "cell_type": "code",
   "execution_count": 11,
   "id": "1e86b92f",
   "metadata": {},
   "outputs": [],
   "source": [
    "from sklearn.cluster import KMeans\n",
    "import numpy as np\n",
    "from sklearn.datasets import load_diabetes"
   ]
  },
  {
   "cell_type": "code",
   "execution_count": 12,
   "id": "b0e5fa9a",
   "metadata": {},
   "outputs": [
    {
     "name": "stdout",
     "output_type": "stream",
     "text": [
      "First 5 rows of X : [[ 0.03807591  0.05068012  0.06169621  0.02187235 -0.0442235  -0.03482076\n",
      "  -0.04340085 -0.00259226  0.01990842 -0.01764613]\n",
      " [-0.00188202 -0.04464164 -0.05147406 -0.02632783 -0.00844872 -0.01916334\n",
      "   0.07441156 -0.03949338 -0.06832974 -0.09220405]\n",
      " [ 0.08529891  0.05068012  0.04445121 -0.00567061 -0.04559945 -0.03419447\n",
      "  -0.03235593 -0.00259226  0.00286377 -0.02593034]\n",
      " [-0.08906294 -0.04464164 -0.01159501 -0.03665645  0.01219057  0.02499059\n",
      "  -0.03603757  0.03430886  0.02269202 -0.00936191]\n",
      " [ 0.00538306 -0.04464164 -0.03638469  0.02187235  0.00393485  0.01559614\n",
      "   0.00814208 -0.00259226 -0.03199144 -0.04664087]]\n"
     ]
    },
    {
     "data": {
      "text/plain": [
       "(442, 10)"
      ]
     },
     "execution_count": 12,
     "metadata": {},
     "output_type": "execute_result"
    }
   ],
   "source": [
    "df = load_diabetes()\n",
    "x  = df.data\n",
    "y = df.target\n",
    "print(\"First 5 rows of X :\", x[:5])\n",
    "df.data.shape"
   ]
  },
  {
   "cell_type": "code",
   "execution_count": 13,
   "id": "2199f9ec",
   "metadata": {},
   "outputs": [],
   "source": [
    "from sklearn.model_selection import train_test_split\n",
    "x_train, x_test, y_train, y_test = train_test_split(x,y,test_size = 0.30, random_state = 1)\n"
   ]
  },
  {
   "cell_type": "code",
   "execution_count": 14,
   "id": "3c13865f",
   "metadata": {},
   "outputs": [
    {
     "name": "stdout",
     "output_type": "stream",
     "text": [
      "The number of clusters are:  [9 2 9 0 4 1 5 7 9 4 1 5 2 5 2 7 4 7 4 4 4 5 4 8 4 0 1 4 2 6 4 2 9 3 2 3 4\n",
      " 4 7 0 7 1 0 3 9 5 4 1 5 0]\n"
     ]
    }
   ],
   "source": [
    "# kmeans = KMeans(n_clusters = 10, random_state = 0)\n",
    "# clusters = kmeans.fit_predict(df.data)\n",
    "# kmeans.cluster_centers_.shape\n",
    "\n",
    "cluster =  KMeans(n_clusters = 10)  \n",
    "cluster.fit(x[:50, :])\n",
    "\n",
    "print(\"The number of clusters are: \", cluster.labels_)  "
   ]
  },
  {
   "cell_type": "markdown",
   "id": "913bd17e",
   "metadata": {},
   "source": [
    "\n",
    "# Spectral Clustering"
   ]
  },
  {
   "cell_type": "code",
   "execution_count": 15,
   "id": "c922997b",
   "metadata": {},
   "outputs": [
    {
     "name": "stdout",
     "output_type": "stream",
     "text": [
      "The number of clusters are:  [7 2 7 3 6 5 4 6 7 3 1 7 2 3 2 6 8 6 1 9 1 4 8 0 5 3 1 8 9 0 8 9 7 9 9 9 8\n",
      " 9 6 3 6 1 4 9 7 4 5 5 4 3]\n"
     ]
    }
   ],
   "source": [
    "#Spectral clustering model for Diabetes dataset\n",
    "from sklearn.cluster import SpectralClustering  \n",
    "cluster =  SpectralClustering(n_clusters = 10)  \n",
    "cluster.fit(x[:50, :])  \n",
    "  \n",
    "print(\"The number of clusters are: \", cluster.labels_)  "
   ]
  },
  {
   "cell_type": "markdown",
   "id": "e155f36a",
   "metadata": {},
   "source": [
    "# Support Vector Machine"
   ]
  },
  {
   "cell_type": "code",
   "execution_count": 16,
   "id": "344911f3",
   "metadata": {},
   "outputs": [
    {
     "name": "stdout",
     "output_type": "stream",
     "text": [
      "0.007518796992481203\n"
     ]
    }
   ],
   "source": [
    "from sklearn.svm import SVC\n",
    "from sklearn.metrics import accuracy_score\n",
    "model = SVC(kernel=\"linear\", random_state=0)\n",
    "model.fit(x_train , y_train)\n",
    "pred = model.predict(x_test)\n",
    "\n",
    "\n",
    "accuracy = accuracy_score(y_test , pred)\n",
    "print(accuracy) "
   ]
  },
  {
   "cell_type": "markdown",
   "id": "0b596517",
   "metadata": {},
   "source": [
    "# Model Persistence"
   ]
  },
  {
   "cell_type": "code",
   "execution_count": 17,
   "id": "8ca0aa58",
   "metadata": {},
   "outputs": [
    {
     "data": {
      "text/plain": [
       "['iris_classifier_knn.joblib']"
      ]
     },
     "execution_count": 17,
     "metadata": {},
     "output_type": "execute_result"
    }
   ],
   "source": [
    "# from sklearn.externals import joblib\n",
    "import joblib\n",
    "from joblib import dump,load\n",
    "joblib.dump(model, 'iris_classifier_knn.joblib')"
   ]
  },
  {
   "cell_type": "code",
   "execution_count": 18,
   "id": "3570af7d",
   "metadata": {},
   "outputs": [
    {
     "data": {
      "text/plain": [
       "SVC(kernel='linear', random_state=0)"
      ]
     },
     "execution_count": 18,
     "metadata": {},
     "output_type": "execute_result"
    }
   ],
   "source": [
    "joblib.load('iris_classifier_knn.joblib')"
   ]
  },
  {
   "cell_type": "code",
   "execution_count": null,
   "id": "b4b2b2b9",
   "metadata": {},
   "outputs": [],
   "source": []
  },
  {
   "cell_type": "code",
   "execution_count": null,
   "id": "67339e17",
   "metadata": {},
   "outputs": [],
   "source": []
  }
 ],
 "metadata": {
  "kernelspec": {
   "display_name": "Python 3 (ipykernel)",
   "language": "python",
   "name": "python3"
  },
  "language_info": {
   "codemirror_mode": {
    "name": "ipython",
    "version": 3
   },
   "file_extension": ".py",
   "mimetype": "text/x-python",
   "name": "python",
   "nbconvert_exporter": "python",
   "pygments_lexer": "ipython3",
   "version": "3.9.7"
  }
 },
 "nbformat": 4,
 "nbformat_minor": 5
}
