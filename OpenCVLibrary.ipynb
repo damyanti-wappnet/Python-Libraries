{
 "cells": [
  {
   "cell_type": "code",
   "execution_count": 1,
   "id": "6f53eb19",
   "metadata": {},
   "outputs": [
    {
     "name": "stdout",
     "output_type": "stream",
     "text": [
      "4.6.0\n"
     ]
    }
   ],
   "source": [
    "import cv2\n",
    "print(cv2.__version__)"
   ]
  },
  {
   "cell_type": "code",
   "execution_count": 2,
   "id": "8c9c2dcf",
   "metadata": {},
   "outputs": [
    {
     "name": "stdout",
     "output_type": "stream",
     "text": [
      "Height 555, Width : 415\n"
     ]
    }
   ],
   "source": [
    "image = cv2.imread('images.jpeg')\n",
    "x,y = image.shape[:2]\n",
    "print('Height {}, Width : {}'.format(x,y))"
   ]
  },
  {
   "cell_type": "code",
   "execution_count": 3,
   "id": "491dac0d",
   "metadata": {},
   "outputs": [
    {
     "name": "stdout",
     "output_type": "stream",
     "text": [
      "R : 0, G : 0, B : 0\n",
      "The value of B is 0\n"
     ]
    }
   ],
   "source": [
    "(R,G,B) = image[130,250]\n",
    "print(\"R : {}, G : {}, B : {}\".format(R,G,B))\n",
    "\n",
    "B = image[130,250,0]\n",
    "\n",
    "print('The value of B is {}'.format(B))"
   ]
  },
  {
   "cell_type": "code",
   "execution_count": 4,
   "id": "c4b9e892",
   "metadata": {},
   "outputs": [
    {
     "data": {
      "text/plain": [
       "True"
      ]
     },
     "execution_count": 4,
     "metadata": {},
     "output_type": "execute_result"
    }
   ],
   "source": [
    "size = cv2.resize(image, (1920,1080))\n",
    "cv2.imwrite(\"newimage.jpeg\", image)"
   ]
  },
  {
   "cell_type": "code",
   "execution_count": 5,
   "id": "021f05aa",
   "metadata": {},
   "outputs": [
    {
     "data": {
      "text/plain": [
       "True"
      ]
     },
     "execution_count": 5,
     "metadata": {},
     "output_type": "execute_result"
    }
   ],
   "source": [
    "rect = cv2.rectangle(image,(1500,900),(600,400),(255,0,0),2)\n",
    "cv2.imwrite(\"newimage.jpeg\",image)"
   ]
  },
  {
   "cell_type": "code",
   "execution_count": 6,
   "id": "777e15f4",
   "metadata": {},
   "outputs": [
    {
     "data": {
      "text/plain": [
       "True"
      ]
     },
     "execution_count": 6,
     "metadata": {},
     "output_type": "execute_result"
    }
   ],
   "source": [
    "text_input = cv2.putText(image, \"Lion\",(500,550),cv2.FONT_HERSHEY_SIMPLEX,4,(255,0,0),2)\n",
    "cv2.imwrite('texti.jpeg',image)"
   ]
  },
  {
   "cell_type": "code",
   "execution_count": 7,
   "id": "7d336fd8",
   "metadata": {},
   "outputs": [
    {
     "name": "stdout",
     "output_type": "stream",
     "text": [
      "Height = 555, Width = 415, Depth = 3\n"
     ]
    }
   ],
   "source": [
    "# import imutils\n",
    "# from google.colab.patches import cv2_imshow\n",
    "\n",
    "import cv2\n",
    "\n",
    "image = cv2.imread(\"newimage.jpeg\")\n",
    "(h,w,d) = image.shape\n",
    "window_name = 'Image'\n",
    "print(\"Height = {}, Width = {}, Depth = {}\".format(h,w,d))\n",
    "cv2.imshow(window_name,image)\n",
    "cv2.waitKey(1) \n",
    "cv2.destroyWindow(window_name)"
   ]
  },
  {
   "cell_type": "markdown",
   "id": "16580948",
   "metadata": {},
   "source": [
    "OpenCV is an open-source library for the computer vision.  It provides the facility to the machine to recognize the faces or objects. In OpenCV, the CV is an abbreviation form of a computer vision, which is defined as a field of study that helps computers to understand the content of the digital images such as photographs and videos.\n",
    "\n",
    "The purpose of computer vision is to understand the content of the images. It extracts the description from the pictures, which may be an object, a text description, and three-dimension model, and so on. For example, cars can be facilitated with computer vision, which will be able to identify and different objects around the road, such as traffic lights, pedestrians, traffic signs, and so on, and acts accordingly.\n",
    "\n",
    "\n",
    "Computer vision allows the computer to perform the same kind of tasks as humans with the same efficiency. There are a two main task which are defined below:\n",
    "\n",
    "Object Classification - In the object classification, we train a model on a dataset of particular objects, and the model classifies new objects as belonging to one or more of your training categories.\n",
    "\n",
    "Object Identification - In the object identification, our model will identify a particular instance of an object - for example, parsing two faces in an image and tagging one as Virat Kohli and other one as Rohit Sharma.\n",
    "\n",
    "\n",
    "<h1>History</h1>\n",
    "\n",
    "OpenCV stands for Open Source Computer Vision Library, which is widely used for image recognition or identification. It was officially launched in 1999 by Intel. It was written in C/C++ in the early stage, but now it is commonly used in Python for the computer vision as well.\n",
    "\n",
    "The first alpha version of OpenCV was released for the common use at the IEEE Conference on Computer Vision and Pattern Recognition in 2000, and between 2001 and 2005, five betas were released. The first 1.0 version was released in 2006.\n",
    "\n",
    "The second version of the OpenCV was released in October 2009 with the significant changes. The second version contains a major change to the C++ interface, aiming at easier, more type-safe, pattern, and better implementations. Currently, the development is done by an independent Russian team and releases its newer version in every six months."
   ]
  },
  {
   "cell_type": "markdown",
   "id": "cd6d6f43",
   "metadata": {},
   "source": [
    "<b> OpenCV imread function</b>\n",
    "\n",
    "The imread() function loads image from the specified file and returns it. \n",
    "\n",
    "The syntax is:\n",
    "\n",
    "cv2.imread(filename[,flag])  \n",
    "\n",
    "\n",
    "Parameters:\n",
    "filename: Name of the file to be loaded\n",
    "\n",
    "flag: The flag specifies the color type of a loaded image:\n",
    "\n",
    "CV_LOAD_IMAGE_ANYDEPTH - If we set it as flag, it will return 16-bits/32-bits image when the input has the corresponding depth, otherwise convert it to 8-BIT.\n",
    "\n",
    "CV_LOAD_IMAGE_COLOR - If we set it as flag, it always return the converted image to the color one.\n",
    "\n",
    "C V_LOAD_IMAGE_GRAYSCALE - If we set it as flag, it always convert image into the grayscale.\n",
    "\n",
    "The imread() function returns a matrix, if the image cannot be read because of unsupported file format, missing file, unsupported or invalid format. Currently, the following file formats are supported.\n",
    "\n",
    "Window bitmaps - *.bmp, *.dib\n",
    "\n",
    "JPEG files - *.jpeg, *.jpg, *.jpe\n",
    "\n",
    "Portable Network Graphics - *.png\n",
    "\n",
    "Portable image format- *.pbm, *.pgm, *.ppm\n",
    "\n",
    "TIFF files - *.tiff, *.tif"
   ]
  },
  {
   "cell_type": "code",
   "execution_count": 8,
   "id": "36c8b379",
   "metadata": {},
   "outputs": [],
   "source": [
    "import cv2  \n",
    "  \n",
    "# using imread('path') and 0 denotes read as  grayscale image  \n",
    "img = cv2.imread('images.jpeg')  \n",
    "  \n",
    "#This is using for display the image  \n",
    "cv2.imshow('image',img)  \n",
    "  \n",
    "cv2.waitKey(0) # This is necessary to be required so that the image doesn't close immediately. \n",
    "\n",
    "#It will run continuously until the key press.  \n",
    "cv2.destroyAllWindows()  "
   ]
  },
  {
   "cell_type": "code",
   "execution_count": null,
   "id": "3b198ece",
   "metadata": {},
   "outputs": [],
   "source": []
  },
  {
   "cell_type": "markdown",
   "id": "037b6cd7",
   "metadata": {},
   "source": [
    "# <b>OpenCV Save Images</b>\n",
    "\n",
    "OpenCV imwrite() function is used to save an image to a specified file. The file extension defines the image format. \n",
    "\n",
    "The syntax is the following:\n",
    "\n",
    "cv2.imwrite(filename, img[,params]) \n",
    "\n",
    "Parameters:\n",
    "\n",
    "filename- Name of the file to be loaded\n",
    "\n",
    "image- Image to be saved.\n",
    "\n",
    "params- The following parameters are currently supported:\n",
    "\n",
    "For JPEG, quality can be from 0 to 100. The default value is 95.\n",
    "\n",
    "For PNG, quality can be the compress level from 0 to 9. The default value is 1.\n",
    "\n",
    "For PPM, PGM, or PBM, it can be a binary format flag 0 or 1. The default value is 1.\n",
    "\n",
    "\n"
   ]
  },
  {
   "cell_type": "code",
   "execution_count": 23,
   "id": "7f2de116",
   "metadata": {},
   "outputs": [
    {
     "name": "stdout",
     "output_type": "stream",
     "text": [
      "Image written to file-system :  True\n"
     ]
    }
   ],
   "source": [
    "import cv2\n",
    "img = cv2.imread('images.jpeg')\n",
    "\n",
    "filename = 'savedImage1.jpeg'\n",
    "save = cv2.imwrite(filename,img)\n",
    "# print(\"Done\")\n",
    "print(\"Image written to file-system : \", save)  "
   ]
  },
  {
   "cell_type": "markdown",
   "id": "e9476bbd",
   "metadata": {},
   "source": [
    "<h1> OpenCV Basic Operation on Images</h1>\n",
    "\n",
    "The essential operations that are related to the images.\n",
    "<ol>\n",
    "    <li>Access pixel values and modify them</li>\n",
    "    <li>Access Image Properties</li>\n",
    "    <li>Setting Region of Image</li>\n",
    "    <li>Splitting and merging images</li>\n",
    "    <li>Change the image color</li>\n",
    "</ol>\n",
    "\n",
    "\n",
    "\n",
    "<b>Accessing and Modifying pixel values</b>\n",
    "\n",
    "We can retrieve a pixel value by its row and column coordinates. It returns an array of blue, green, red values of the BGR image. It returns the corresponding intensity for the grayscale image. First, we need to load the BGR image.\n",
    "\n"
   ]
  },
  {
   "cell_type": "code",
   "execution_count": 11,
   "id": "00160e10",
   "metadata": {},
   "outputs": [
    {
     "name": "stdout",
     "output_type": "stream",
     "text": [
      "[130  60  23]\n"
     ]
    }
   ],
   "source": [
    "import numpy as np\n",
    "import cv2\n",
    "\n",
    "img = cv2.imread('image.jpg',1)\n",
    "pixel = img[100,100]\n",
    "print(pixel)"
   ]
  },
  {
   "cell_type": "code",
   "execution_count": 1,
   "id": "48e9e5db",
   "metadata": {},
   "outputs": [
    {
     "name": "stdout",
     "output_type": "stream",
     "text": [
      "Image Height       :  1440\n",
      "Image Width        :  2560\n",
      "Number of Channels :  3\n",
      "Image Size  : 11059200\n"
     ]
    }
   ],
   "source": [
    "import cv2  \n",
    "# read image  \n",
    "img = cv2.imread('image.jpg',1)  \n",
    "  \n",
    "# height, width, number of channels in image  \n",
    "height = img.shape[0]  # y axis\n",
    "width = img.shape[1]  # x axis\n",
    "channels = img.shape[2]  # dimenstions\n",
    "size1 = img.size  \n",
    "  \n",
    "# print('Image Dimension    : ',dimensions)  \n",
    "print('Image Height       : ',height)  \n",
    "print('Image Width        : ',width)  \n",
    "print('Number of Channels : ',channels)  \n",
    "print('Image Size  :', size1)  "
   ]
  },
  {
   "cell_type": "markdown",
   "id": "6817a4b0",
   "metadata": {},
   "source": [
    "<h1>Splitting and Merging Image channels</h1>\n",
    "\n",
    "\n",
    "An image's BGR channels can be split into their planes when needed.\n",
    "\n",
    "We use cv2.split(img) to split image into it's indivisual (B, G, R)\n",
    "\n",
    "cv2.split(image)\n",
    "\n",
    "Then, the individual channels can be merged back together from the BGR image again. \n",
    "\n",
    "We use cv2.merge([B, G, R]) to combine the multiple channels in a single image\n",
    "\n",
    "cv2.merge([B, G, R])"
   ]
  },
  {
   "cell_type": "code",
   "execution_count": 3,
   "id": "cf3ea52e",
   "metadata": {},
   "outputs": [],
   "source": [
    "import cv2\n",
    "\n",
    "# Read the image\n",
    "image = cv2.imread('image.jpg')\n",
    "\n",
    "# Split the image into its channels\n",
    "(b,g,r) = cv2.split(image)\n",
    "\n",
    "# Display each channel\n",
    "cv2.imshow('Red', r)\n",
    "cv2.imshow('Green', g)\n",
    "cv2.imshow('Blue', b)\n",
    "\n",
    "# Merge the channels back together and display\n",
    "merged = cv2.merge([b, g, r])\n",
    "cv2.imshow('Merged', merged)\n",
    "\n",
    "# Wait for a key press\n",
    "cv2.waitKey(0)\n",
    "\n",
    "# Destroy all windows\n",
    "cv2.destroyAllWindows()"
   ]
  },
  {
   "cell_type": "code",
   "execution_count": null,
   "id": "fe11af23",
   "metadata": {},
   "outputs": [],
   "source": []
  },
  {
   "cell_type": "code",
   "execution_count": null,
   "id": "d1134ecb",
   "metadata": {},
   "outputs": [],
   "source": []
  },
  {
   "cell_type": "markdown",
   "id": "7736002e",
   "metadata": {},
   "source": [
    "OpenCV provides the cv2.copyMakeBorder() function to create a border around the image, something like a photo frame. The syntax of the function is given below.\n",
    "\n",
    "cv2.copyMakeBorder(src,top,bottom,left,right,border type)  \n"
   ]
  },
  {
   "cell_type": "code",
   "execution_count": 7,
   "id": "231d5415",
   "metadata": {
    "scrolled": true
   },
   "outputs": [
    {
     "data": {
      "image/png": "[encoded data removed]",
      "text/plain": [
       "<Figure size 432x288 with 6 Axes>"
      ]
     },
     "metadata": {
      "needs_background": "light"
     },
     "output_type": "display_data"
    }
   ],
   "source": [
    "import cv2 as cv  \n",
    "import numpy as np  \n",
    "from matplotlib import pyplot as plt  \n",
    "\n",
    "BLUE = [255,255,0]  \n",
    "img1 = cv.imread('image.jpg',1)  \n",
    "\n",
    "replicate = cv.copyMakeBorder(img1,10,10,50,50,cv.BORDER_REPLICATE)  \n",
    "reflect = cv.copyMakeBorder(img1,10,10,10,10,cv.BORDER_REFLECT)  \n",
    "reflect101 = cv.copyMakeBorder(img1,10,10,10,10,cv.BORDER_REFLECT_101)  \n",
    "wrap = cv.copyMakeBorder(img1,10,10,10,10,cv.BORDER_WRAP)  \n",
    "constant= cv.copyMakeBorder(img1,10,10,10,10,cv.BORDER_CONSTANT,value=BLUE)  \n",
    "\n",
    "    \n",
    "plt.subplot(231),plt.imshow(img1,'gray'),plt.title('ORIGINAL')  \n",
    "plt.subplot(232),plt.imshow(replicate,'gray'),plt.title('REPLICATE')  \n",
    "plt.subplot(233),plt.imshow(reflect,'gray'),plt.title('REFLECT')  \n",
    "plt.subplot(234),plt.imshow(reflect101,'gray'),plt.title('REFLECT_101')  \n",
    "plt.subplot(235),plt.imshow(wrap,'gray'),plt.title('WRAP')  \n",
    "plt.subplot(236),plt.imshow(constant,'gray'),plt.title('CONSTANT')  \n",
    "plt.show()   "
   ]
  },
  {
   "cell_type": "code",
   "execution_count": 14,
   "id": "1f79a432",
   "metadata": {},
   "outputs": [],
   "source": [
    "import cv2\n",
    "\n",
    "img = cv2.imread('image.jpg')\n",
    "\n",
    "b,g,r = cv2.split(img)  \n",
    "img = cv2.merge((b,g,r))"
   ]
  },
  {
   "cell_type": "markdown",
   "id": "511be658",
   "metadata": {},
   "source": [
    "<b> Change in Image color</b>\n",
    "OpenCV cvtColor\n",
    "\n",
    "The cvtColor is used to convert an image from one color space to another. The syntax is following:\n",
    "\n",
    "cv2.cvtColor(src, dst, code) \n",
    "\n",
    "<b>Parameters:</b>\n",
    "\n",
    "src - It is used to input an image: 8-bit unsigned.\n",
    "\n",
    "dst - It is used to display an image as output. The output image will be same size and depth as input image.\n",
    "\n",
    "code - color space conversion code."
   ]
  },
  {
   "cell_type": "code",
   "execution_count": 8,
   "id": "1715218b",
   "metadata": {},
   "outputs": [],
   "source": [
    "# importing cv2    \n",
    "import cv2    \n",
    "     \n",
    "# path of the input image  \n",
    "path = ('image.jpg')  \n",
    "     \n",
    "# Reading an image in default mode   \n",
    "src = cv2.imread(path)   \n",
    "     \n",
    "# Window name in which image is displayed   \n",
    "window_name = 'Image'   \n",
    "# Using cv2.cvtColor() method   \n",
    "# Using cv2.COLOR_BGR2GRAY color space for convert BGR image to grayscale  \n",
    "# conversion code   \n",
    "image = cv2.cvtColor(src, cv2.COLOR_BGR2GRAY )   \n",
    "# Displaying the image    \n",
    "cv2.imshow(window_name, image) \n",
    "cv2.waitKey(0)\n",
    "cv2.destroyAllWindows()"
   ]
  },
  {
   "cell_type": "markdown",
   "id": "9737f12d",
   "metadata": {},
   "source": [
    "Sometimes, it is necessary to transform the loaded image. In the image processing, we need to resize the image to perform the particular operation. Images are generally stored in Numpy ndarray(array). The ndarray.shape is used to obtain the dimension of the image. We can get the width, height, and numbers of the channels for each pixel by using the index of the dimension variable."
   ]
  },
  {
   "cell_type": "code",
   "execution_count": 16,
   "id": "e754047a",
   "metadata": {},
   "outputs": [
    {
     "name": "stdout",
     "output_type": "stream",
     "text": [
      "Resized Dimensions :  (288, 512, 3)\n"
     ]
    }
   ],
   "source": [
    "import cv2  \n",
    "  \n",
    "img = cv2.imread('image.jpg', 1)  \n",
    "scale = 20  \n",
    "width = int(img.shape[1] * scale / 100)  \n",
    "height = int(img.shape[0] * scale / 100)  \n",
    "dim = (width, height)  \n",
    "# resize image  \n",
    "resized = cv2.resize(img, dim, interpolation=cv2.INTER_AREA)  \n",
    "  \n",
    "print('Resized Dimensions : ', resized.shape)  \n",
    "  \n",
    "cv2.imshow(\"Resized image\", resized)  \n",
    "cv2.waitKey(0)  \n",
    "cv2.destroyAllWindows()  "
   ]
  },
  {
   "cell_type": "code",
   "execution_count": 17,
   "id": "fb617872",
   "metadata": {},
   "outputs": [
    {
     "name": "stdout",
     "output_type": "stream",
     "text": [
      "Original shape : (555, 415, 3)\n",
      "Resized : (550, 350, 3)\n"
     ]
    }
   ],
   "source": [
    "import cv2\n",
    "\n",
    "img = cv2.imread('images.jpeg',1)\n",
    "print(\"Original shape :\", img.shape)\n",
    "\n",
    "height = 550\n",
    "width = 350\n",
    "dim = (width, height)\n",
    "resized = cv2.resize(img, dim)\n",
    "print(\"Resized :\", resized.shape)\n",
    "\n",
    "cv2.imshow(\"myImage\",img)\n",
    "cv2.waitKey(0)\n",
    "cv2.destroyAllWindows()"
   ]
  },
  {
   "cell_type": "markdown",
   "id": "4617d303",
   "metadata": {},
   "source": [
    "<h1> OpenCV Image Rotation</h1>\n",
    "\n",
    "The image can be rotated in various angles (90,180,270 and 360). OpenCV calculates the affine matrix that performs affine transformation, which means it does not preserve the angle between the lines or distances between the points, although it preserves the ratio of distances between points lying on the lines.\n",
    "\n",
    "The syntax of the rotate image is the following:\n",
    "\n",
    "cv2.getRotationMatrix2D(center, angle, scale rotated = cv2.warpAfifne(img,M,(w,h)) \n",
    "\n",
    "\n",
    "<b>Parameters:</b>\n",
    "\n",
    "\n",
    "center: It represents the center of the image.\n",
    "\n",
    "angle: It represents the angle by which a particular image to be rotated in the anti-clockwise direction.\n",
    "\n",
    "rotated: ndarray that holds the rotated image data.\n",
    "\n",
    "scale: The value 1.0 is denoted that the shape is preserved. Scale the image according to the provided value."
   ]
  },
  {
   "cell_type": "code",
   "execution_count": 18,
   "id": "d9b9789e",
   "metadata": {},
   "outputs": [],
   "source": [
    "import cv2  \n",
    "# read image as greyscale  \n",
    "img = cv2.imread('image.jpg')  \n",
    "# get image height, width  \n",
    "(h, w) = img.shape[:2]  \n",
    "# calculate the center of the image  \n",
    "center = (w / 2, h / 2)  \n",
    "  \n",
    "angle90 = 90  \n",
    "angle180 = 180  \n",
    "angle270 = 270  \n",
    "  \n",
    "scale = 1.0  \n",
    "  \n",
    "# Perform the counterclockwise rotation holding at the center  \n",
    "# 90 degrees  \n",
    "M = cv2.getRotationMatrix2D(center, angle90, scale)  \n",
    "rotated90 = cv2.warpAffine(img, M, (h, w))  \n",
    "  \n",
    "# 180 degrees  \n",
    "M = cv2.getRotationMatrix2D(center, angle180, scale)  \n",
    "rotated180 = cv2.warpAffine(img, M, (w, h))  \n",
    "  \n",
    "# 270 degrees  \n",
    "M = cv2.getRotationMatrix2D(center, angle270, scale)  \n",
    "rotated270 = cv2.warpAffine(img, M, (h, w))  \n",
    "  \n",
    "cv2.imshow('Original Image', img)  \n",
    "cv2.waitKey(0)  # waits until a key is pressed  \n",
    "cv2.destroyAllWindows()  # destroys the window showing image  \n",
    "  \n",
    "cv2.imshow('Image rotated by 90 degrees', rotated90)  \n",
    "cv2.waitKey(0)  # waits until a key is pressed  \n",
    "cv2.destroyAllWindows()  # destroys the window showing imag  \n",
    "  \n",
    "cv2.imshow('Image rotated by 180 degrees', rotated180)  \n",
    "cv2.waitKey(0)  # waits until a key is pressed  \n",
    "cv2.destroyAllWindows()  # destroys the window showing image  \n",
    "  \n",
    "cv2.imshow('Image rotated by 270 degrees', rotated270)  \n",
    "cv2.waitKey(0)  # waits until a key is pressed  \n",
    "cv2.destroyAllWindows()  # destroys the window showing image  "
   ]
  },
  {
   "cell_type": "markdown",
   "id": "d4e53af5",
   "metadata": {},
   "source": [
    "<h1>OpenCV Drawing Functions</h1>\n",
    "\n",
    "\n",
    "We can draw the various shapes on an image such as circle, rectangle, ellipse, polylines, convex, etc. It is used when we want to highlight any object in the input image. The OpenCV provides functions for each shape.\n",
    "\n",
    "<b>Drawing Circle</b>\n",
    "\n",
    "We can draw the circle on the image by using the cv2.circle() function.\n",
    "\n",
    "cv2.circle(img, center, radius, color[,thickness [, lineType[,shift]]])  \n",
    "\n",
    "<b>Parameters:</b>\n",
    "\n",
    "img- It represents the given image.\n",
    "\n",
    "center- Center of the circle\n",
    "\n",
    "radius- Radius of the circle\n",
    "\n",
    "color- Circle color\n",
    "\n",
    "thickness- It denotes the thickness of the circle outline, if it is positive. And negative thickness means that a filled circle is to be drawn.\n",
    "\n",
    "lineType- Defines the type of the circle boundary.\n",
    "\n",
    "shift- It represents the number of fractional bits in the coordinate of the center and the radius value.\n",
    "\n"
   ]
  },
  {
   "cell_type": "code",
   "execution_count": 24,
   "id": "e5d7eb9e",
   "metadata": {},
   "outputs": [],
   "source": [
    "\n",
    "import numpy as np  \n",
    "import cv2  \n",
    "img = cv2.imread(\"images.jpeg\",1)  \n",
    "cv2.circle(img,(100,100), 55, (0,255,0), -1)  # negative value will give filled circle positive will give line circle\n",
    "cv2.imshow('image',img)  \n",
    "cv2.waitKey(0)  \n",
    "cv2.destroyAllWindows()  "
   ]
  },
  {
   "cell_type": "markdown",
   "id": "60f99010",
   "metadata": {},
   "source": [
    "<b>Drawing Rectangle</b>\n",
    "\n",
    "The OpenCV provides a function to draw a simple, thick or filled up-right rectangle. \n",
    "\n",
    "cv2.rectangle(img, pt1, pt2, color[, thickness[,lineType[,shift]]])  \n",
    "\n",
    "<b>Parameters:</b>\n",
    "\n",
    "img- It represents an image.\n",
    "\n",
    "pt1- It denotes vertex of the rectangle.\n",
    "\n",
    "pt2- It denotes the vertex of the rectangle opposite to pt1.\n",
    "\n",
    "color- It denotes the rectangle color of brightness (grayscale image).\n",
    "\n",
    "thickness- It represents the thickness of the lines that makes up the rectangle. Negative values (CV_FILLED) mean that the function has to draw a filled rectangle.\n",
    "\n",
    "linetype- It represents the types of the line.\n",
    "\n",
    "shift- It represents the number of fractional bits in the point coordinates."
   ]
  },
  {
   "cell_type": "code",
   "execution_count": 20,
   "id": "94f9c697",
   "metadata": {},
   "outputs": [],
   "source": [
    "\n",
    "import numpy as np  \n",
    "import cv2  \n",
    "img = cv2.imread(\"images.jpeg\",1)\n",
    "cv2.rectangle(img,(15,25),(200,150),(0,255,255),15)  \n",
    "cv2.imshow('image',img)  \n",
    "cv2.waitKey(0)  \n",
    "cv2.destroyAllWindows()"
   ]
  },
  {
   "cell_type": "markdown",
   "id": "faf68b06",
   "metadata": {},
   "source": [
    "<b> Drawing Ellipse</b>\n",
    "\n",
    "We can draw an ellipse on an image by using the cv2.ellipse() function. It can draw a simple or thick elliptic arc or can fill an ellipse sector.\n",
    "\n",
    "cv2.ellipse(img, center, axes, angle, startAngle, endAngle, color[, thickness[, lineType[, shift]]])   \n",
    "\n",
    "cv2.ellipse(img, box, color[, thickness[, lineType]])   \n",
    "\n",
    "<b> Parameters:</b>\n",
    "\n",
    "img - It represents an image.\n",
    "\n",
    "box - It represents alternative ellipse representation via RotatedRect or CvBox2D. It means that the function is used to draws an ellipse in a curved rectangle.\n",
    "\n",
    "color - It denotes the ellipse color.\n",
    "\n",
    "angle- It denotes the angle of rotation.\n",
    "\n",
    "startAngle - It denotes the initial angle of the elliptic arc in degrees.\n",
    "\n",
    "endAngle - It denotes the ending angle of the elliptic arc in degrees.\n",
    "\n",
    "thickness - It is used to draw thickness of the ellipse arc outline if the value is positive. Otherwise, this specifies that a filled ellipse is to be drawn.\n",
    "\n",
    "lineType - It denotes the type of the ellipse boundary.\n",
    "\n",
    "shift - It represents the number of fractional bits in the coordinates of the center and values of axes.\n",
    "\n",
    "\n",
    "There are two functions to draw the ellipse. \n",
    "\n",
    "The first function is used to draw the whole ellipse, not an arc bypassing startAngle=0 and endAngle = 360. \n",
    "\n",
    "The second function of an ellipse is used to draw an ellipse outline, a filled ellipse, an elliptic arc, or a filled ellipse sector."
   ]
  },
  {
   "cell_type": "code",
   "execution_count": 25,
   "id": "236395ea",
   "metadata": {},
   "outputs": [],
   "source": [
    "import numpy as np  \n",
    "import cv2  \n",
    "img = cv2.imread('images.jpeg',1)  \n",
    "  \n",
    "cv2.ellipse(img, (250, 150), (80, 20), 5, 0, 360, (0,0,255), 1)  \n",
    "cv2.imshow('image',img)  \n",
    "cv2.waitKey(0)  \n",
    "cv2.destroyAllWindows()  "
   ]
  },
  {
   "cell_type": "code",
   "execution_count": null,
   "id": "c0175336",
   "metadata": {},
   "outputs": [],
   "source": []
  },
  {
   "cell_type": "code",
   "execution_count": null,
   "id": "ee9eb8eb",
   "metadata": {},
   "outputs": [],
   "source": []
  },
  {
   "cell_type": "code",
   "execution_count": null,
   "id": "cace7d59",
   "metadata": {},
   "outputs": [],
   "source": []
  },
  {
   "cell_type": "code",
   "execution_count": null,
   "id": "541b6689",
   "metadata": {},
   "outputs": [],
   "source": []
  },
  {
   "cell_type": "code",
   "execution_count": null,
   "id": "d1e21a17",
   "metadata": {},
   "outputs": [],
   "source": []
  },
  {
   "cell_type": "code",
   "execution_count": null,
   "id": "83263da3",
   "metadata": {},
   "outputs": [],
   "source": []
  },
  {
   "cell_type": "code",
   "execution_count": null,
   "id": "494836af",
   "metadata": {},
   "outputs": [],
   "source": []
  },
  {
   "cell_type": "code",
   "execution_count": null,
   "id": "1682b9f7",
   "metadata": {},
   "outputs": [],
   "source": []
  },
  {
   "cell_type": "code",
   "execution_count": null,
   "id": "185faae7",
   "metadata": {},
   "outputs": [],
   "source": []
  },
  {
   "cell_type": "code",
   "execution_count": null,
   "id": "2024ed70",
   "metadata": {},
   "outputs": [],
   "source": []
  },
  {
   "cell_type": "code",
   "execution_count": null,
   "id": "f19a97f3",
   "metadata": {},
   "outputs": [],
   "source": []
  },
  {
   "cell_type": "code",
   "execution_count": null,
   "id": "79536f3d",
   "metadata": {},
   "outputs": [],
   "source": []
  },
  {
   "cell_type": "code",
   "execution_count": null,
   "id": "2dacbdb5",
   "metadata": {},
   "outputs": [],
   "source": []
  },
  {
   "cell_type": "code",
   "execution_count": null,
   "id": "f1408440",
   "metadata": {},
   "outputs": [],
   "source": []
  },
  {
   "cell_type": "code",
   "execution_count": null,
   "id": "96fb79d5",
   "metadata": {},
   "outputs": [],
   "source": []
  },
  {
   "cell_type": "code",
   "execution_count": null,
   "id": "2a4eda80",
   "metadata": {},
   "outputs": [],
   "source": []
  },
  {
   "cell_type": "code",
   "execution_count": null,
   "id": "c25b4140",
   "metadata": {},
   "outputs": [],
   "source": []
  },
  {
   "cell_type": "code",
   "execution_count": null,
   "id": "530e5919",
   "metadata": {},
   "outputs": [],
   "source": []
  },
  {
   "cell_type": "code",
   "execution_count": null,
   "id": "d0d6ba98",
   "metadata": {},
   "outputs": [],
   "source": []
  },
  {
   "cell_type": "code",
   "execution_count": null,
   "id": "5f46d6d2",
   "metadata": {},
   "outputs": [],
   "source": []
  },
  {
   "cell_type": "code",
   "execution_count": null,
   "id": "13ac8118",
   "metadata": {},
   "outputs": [],
   "source": []
  },
  {
   "cell_type": "code",
   "execution_count": null,
   "id": "27e019d5",
   "metadata": {},
   "outputs": [],
   "source": []
  },
  {
   "cell_type": "code",
   "execution_count": null,
   "id": "50c870da",
   "metadata": {},
   "outputs": [],
   "source": []
  },
  {
   "cell_type": "code",
   "execution_count": null,
   "id": "630bb140",
   "metadata": {},
   "outputs": [],
   "source": []
  },
  {
   "cell_type": "code",
   "execution_count": null,
   "id": "8ad450ca",
   "metadata": {},
   "outputs": [],
   "source": []
  },
  {
   "cell_type": "code",
   "execution_count": null,
   "id": "ab2dba29",
   "metadata": {},
   "outputs": [],
   "source": []
  },
  {
   "cell_type": "code",
   "execution_count": null,
   "id": "d799491e",
   "metadata": {},
   "outputs": [],
   "source": []
  },
  {
   "cell_type": "code",
   "execution_count": null,
   "id": "f613c9b8",
   "metadata": {},
   "outputs": [],
   "source": []
  },
  {
   "cell_type": "code",
   "execution_count": null,
   "id": "c6e5c76f",
   "metadata": {},
   "outputs": [],
   "source": []
  },
  {
   "cell_type": "code",
   "execution_count": null,
   "id": "3f31af31",
   "metadata": {},
   "outputs": [],
   "source": []
  },
  {
   "cell_type": "code",
   "execution_count": null,
   "id": "54860d50",
   "metadata": {},
   "outputs": [],
   "source": []
  }
 ],
 "metadata": {
  "kernelspec": {
   "display_name": "Python 3 (ipykernel)",
   "language": "python",
   "name": "python3"
  },
  "language_info": {
   "codemirror_mode": {
    "name": "ipython",
    "version": 3
   },
   "file_extension": ".py",
   "mimetype": "text/x-python",
   "name": "python",
   "nbconvert_exporter": "python",
   "pygments_lexer": "ipython3",
   "version": "3.9.7"
  }
 },
 "nbformat": 4,
 "nbformat_minor": 5
}
