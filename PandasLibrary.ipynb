{
 "cells": [
  {
   "cell_type": "markdown",
   "id": "e9fb1b85",
   "metadata": {},
   "source": [
    "Pandas was developed by Wes McKinney in 2008. It it mainly used for data manipulation. It is an open source liberary. The name of Pandas derived from the world Panel data which means an econometrics from multidimensional data. pandas is built on the top of the Numpy, means Numpy is required for operating the Pandas.\n",
    "\n",
    "Pandas had two types of data structures:\n",
    "    1) Series\n",
    "    2) DataFrame"
   ]
  },
  {
   "cell_type": "markdown",
   "id": "a47f7fd7",
   "metadata": {},
   "source": [
    "<h1>Series</h1>\n",
    "<br>\n",
    "It is defined as one dimension array that is capable of storing various of data types. We can easily convert list, tuple, dictionery into series using series method.\n",
    "\n",
    "The row labels of series are called the index. A Series cannot contain multiple columns. It has the following parameter:\n",
    "\n",
    "data: It can be any list, dictionary, or scalar value.\n",
    "\n",
    "index: The value of the index should be unique and hashable. It must be of the same length as data. If we do not pass any index, default np.arrange(n) will be used.\n",
    "\n",
    "dtype: It refers to the data type of series.\n",
    "\n",
    "copy: It is used for copying the data.\n",
    "\n",
    "we can also create empty series using pd.Series()"
   ]
  },
  {
   "cell_type": "code",
   "execution_count": 70,
   "id": "14c2cfb9",
   "metadata": {},
   "outputs": [
    {
     "name": "stderr",
     "output_type": "stream",
     "text": [
      "C:\\Users\\91951\\AppData\\Local\\Temp/ipykernel_53304/3269425716.py:2: DeprecationWarning: The default dtype for empty Series will be 'object' instead of 'float64' in a future version. Specify a dtype explicitly to silence this warning.\n",
      "  emp_ser = pd.Series()\n"
     ]
    },
    {
     "data": {
      "text/plain": [
       "Series([], dtype: float64)"
      ]
     },
     "execution_count": 70,
     "metadata": {},
     "output_type": "execute_result"
    }
   ],
   "source": [
    "# we can also create empty series using pd.Series()\n",
    "emp_ser = pd.Series()\n",
    "# emp_ser.empty\n",
    "emp_ser"
   ]
  },
  {
   "cell_type": "code",
   "execution_count": 130,
   "id": "1ca95a80",
   "metadata": {},
   "outputs": [
    {
     "data": {
      "text/plain": [
       "'Scipy'"
      ]
     },
     "execution_count": 130,
     "metadata": {},
     "output_type": "execute_result"
    }
   ],
   "source": [
    "my_ser = pd.Series([\"Python\", \"Numpy\",\"Pandas\",\"Scipy\"],index = [0,2,3,14])\n",
    "# my_ser.size\n",
    "\n",
    "# accessible through index defined inseries\n",
    "my_ser[14]"
   ]
  },
  {
   "cell_type": "code",
   "execution_count": 123,
   "id": "44f140ac",
   "metadata": {},
   "outputs": [
    {
     "name": "stdout",
     "output_type": "stream",
     "text": [
      "[2 4 6 8]\n",
      "<class 'numpy.ndarray'>\n",
      "Index(['a', 'b', 'c', 'd'], dtype='object')\n",
      "<class 'pandas.core.series.Series'>\n"
     ]
    }
   ],
   "source": [
    "import numpy as np\n",
    "import pandas as pd\n",
    "arr1 = np.array([2,4,6,8])\n",
    "ser1 = pd.Series(arr1,index=['a','b','c','d'])\n",
    "print(arr1)\n",
    "print(type(arr1))\n",
    "print(ser1.index)\n",
    "print(type(ser1))"
   ]
  },
  {
   "cell_type": "code",
   "execution_count": 124,
   "id": "f10f48a3",
   "metadata": {},
   "outputs": [
    {
     "name": "stdout",
     "output_type": "stream",
     "text": [
      "Index(['x', 'y', 'z'], dtype='object')\n",
      "0    1\n",
      "1    2\n",
      "2    3\n",
      "3    4\n",
      "dtype: int64 x    4.9\n",
      "y    8.2\n",
      "z    5.6\n",
      "dtype: float64\n"
     ]
    }
   ],
   "source": [
    "import numpy as np   \n",
    "import pandas as pd   \n",
    "a=pd.Series(data=[1,2,3,4])   \n",
    "b=pd.Series(data=[4.9,8.2,5.6],index=['x','y','z'])   \n",
    "# print(a.dtype)   \n",
    "# print(a.nbytes)    \n",
    "# print(b.dtype)   \n",
    "# print(b.nbytes)  \n",
    "print(b.index)\n",
    "print(a,b)"
   ]
  },
  {
   "cell_type": "code",
   "execution_count": 125,
   "id": "67c7d68f",
   "metadata": {},
   "outputs": [
    {
     "data": {
      "text/plain": [
       "0    I like Java\n",
       "1       I like C\n",
       "2     I like C++\n",
       "3            NaN\n",
       "dtype: object"
      ]
     },
     "execution_count": 125,
     "metadata": {},
     "output_type": "execute_result"
    }
   ],
   "source": [
    "import pandas as pd  \n",
    "import numpy as np  \n",
    "a = pd.Series(['Java', 'C', 'C++', np.nan])  \n",
    "a\n",
    "# a.map({'Java': 'Core','C': 'C Language'})  \n",
    "# a.map('I like {}'.format)  \n",
    "a.map('I like {}'.format, na_action='ignore')  "
   ]
  },
  {
   "cell_type": "code",
   "execution_count": 136,
   "id": "b26cd111",
   "metadata": {},
   "outputs": [
    {
     "data": {
      "text/plain": [
       "0    Java\n",
       "1       C\n",
       "2     C++\n",
       "3     NaN\n",
       "dtype: object"
      ]
     },
     "execution_count": 136,
     "metadata": {},
     "output_type": "execute_result"
    }
   ],
   "source": [
    "a.map({'C':'DS'})\n",
    "a"
   ]
  },
  {
   "cell_type": "code",
   "execution_count": 126,
   "id": "59f2b69c",
   "metadata": {},
   "outputs": [
    {
     "name": "stderr",
     "output_type": "stream",
     "text": [
      "C:\\Users\\91951\\AppData\\Local\\Temp/ipykernel_53304/1907207861.py:12: FutureWarning: Dropping of nuisance columns in DataFrame reductions (with 'numeric_only=None') is deprecated; in a future version this will raise TypeError.  Select only valid columns before calling the reduction.\n",
      "  data.std()\n"
     ]
    },
    {
     "data": {
      "text/plain": [
       "sub1_Marks    6.849574\n",
       "sub2_Marks    4.924429\n",
       "dtype: float64"
      ]
     },
     "execution_count": 126,
     "metadata": {},
     "output_type": "execute_result"
    }
   ],
   "source": [
    "import pandas as pd  \n",
    "import numpy as np  \n",
    "   \n",
    "#Create a DataFrame  \n",
    "info = {  \n",
    "    'Name'      :['Parker','Smith','John','William'],  \n",
    "    'sub1_Marks':[52,38,42,37],  \n",
    "    'sub2_Marks':[41,35,29,36]}   \n",
    "data = pd.DataFrame(info)  \n",
    "data  \n",
    "# standard deviation of the dataframe  \n",
    "data.std()  "
   ]
  },
  {
   "cell_type": "code",
   "execution_count": 82,
   "id": "fc0115c9",
   "metadata": {},
   "outputs": [
    {
     "name": "stdout",
     "output_type": "stream",
     "text": [
      "       Emp   ID\n",
      "0   Parker  102\n",
      "1     John  107\n",
      "2    Smith  109\n",
      "3  William  114\n"
     ]
    }
   ],
   "source": [
    "import pandas as pd   \n",
    "import matplotlib.pyplot as plt     \n",
    "emp_series = pd.Series(['Parker', 'John', 'Smith', 'William'])   \n",
    "id_series = pd.Series([102, 107, 109, 114]     )     \n",
    "frame = { 'Emp': emp_series, 'ID': id_series }   \n",
    "\n",
    "\n",
    "# To create a dataframe from a series\n",
    "\n",
    "result = pd.DataFrame(frame)     \n",
    "print(result)"
   ]
  },
  {
   "cell_type": "markdown",
   "id": "fd61a121",
   "metadata": {},
   "source": [
    "The value_counts() function returns a Series that contain counts of unique values. It returns an object that will be in descending order so that its first element will be the most frequently-occurred element."
   ]
  },
  {
   "cell_type": "code",
   "execution_count": 83,
   "id": "3fb4b3f7",
   "metadata": {},
   "outputs": [
    {
     "data": {
      "text/plain": [
       "1.0    2\n",
       "2.0    1\n",
       "3.0    1\n",
       "dtype: int64"
      ]
     },
     "execution_count": 83,
     "metadata": {},
     "output_type": "execute_result"
    }
   ],
   "source": [
    "import pandas as pd  \n",
    "import numpy as np  \n",
    "index = pd.Index([2, 1, 1, np.nan, 3])  \n",
    "index.value_counts()  "
   ]
  },
  {
   "cell_type": "code",
   "execution_count": 149,
   "id": "24c911f5",
   "metadata": {},
   "outputs": [
    {
     "data": {
      "text/plain": [
       "Numpy     3\n",
       "pandas    2\n",
       "Python    2\n",
       "Scipy     1\n",
       "Name: Library, dtype: int64"
      ]
     },
     "execution_count": 149,
     "metadata": {},
     "output_type": "execute_result"
    }
   ],
   "source": [
    "x = pd.Series([\"Numpy\",\"pandas\",\"Python\", \"pandas\", \"Numpy\", \"Scipy\",\"Python\", \"Numpy\"],name = 'Library')\n",
    "arr2 = [\"Python\", \"Pandas\", \"Numpy\", \"Scipy\",\"Python\", \"Numpy\"]\n",
    "pd.unique(arr2)\n",
    "x.value_counts()\n",
    "# x.to_frame()"
   ]
  },
  {
   "cell_type": "code",
   "execution_count": 151,
   "id": "236463d1",
   "metadata": {},
   "outputs": [
    {
     "data": {
      "text/plain": [
       "Float64Index([2.0, 1.0, 1.0, nan, 3.0], dtype='float64')"
      ]
     },
     "execution_count": 151,
     "metadata": {},
     "output_type": "execute_result"
    }
   ],
   "source": [
    "import pandas as pd  \n",
    "import numpy as np  \n",
    "index = pd.Index([2, 1, 1, np.nan, 3])  \n",
    "# index.value_counts() \n",
    "index"
   ]
  },
  {
   "cell_type": "code",
   "execution_count": 153,
   "id": "36a3b1d0",
   "metadata": {},
   "outputs": [
    {
     "data": {
      "text/plain": [
       "Index(['a', 'b', 'c'], dtype='object')"
      ]
     },
     "execution_count": 153,
     "metadata": {},
     "output_type": "execute_result"
    }
   ],
   "source": [
    "pd.Index(list('abc'))"
   ]
  },
  {
   "cell_type": "markdown",
   "id": "e839055d",
   "metadata": {},
   "source": [
    "# DataFrame\n",
    "\n",
    "It is widely used data structure of Pandas and work with two dimentional array with labeled axes(rows and columns).\n",
    "It contains different data types like int, bool, str, list, etc.\n",
    "\n",
    "Series can only contain a single list with a particular index, whereas the DataFrame is a combination of more than one series that can analyze the data."
   ]
  },
  {
   "cell_type": "code",
   "execution_count": 154,
   "id": "fdbfcb9d",
   "metadata": {},
   "outputs": [
    {
     "data": {
      "text/html": [
       "<div>\n",
       "<style scoped>\n",
       "    .dataframe tbody tr th:only-of-type {\n",
       "        vertical-align: middle;\n",
       "    }\n",
       "\n",
       "    .dataframe tbody tr th {\n",
       "        vertical-align: top;\n",
       "    }\n",
       "\n",
       "    .dataframe thead th {\n",
       "        text-align: right;\n",
       "    }\n",
       "</style>\n",
       "<table border=\"1\" class=\"dataframe\">\n",
       "  <thead>\n",
       "    <tr style=\"text-align: right;\">\n",
       "      <th></th>\n",
       "      <th>0</th>\n",
       "    </tr>\n",
       "  </thead>\n",
       "  <tbody>\n",
       "    <tr>\n",
       "      <th>0</th>\n",
       "      <td>Python</td>\n",
       "    </tr>\n",
       "    <tr>\n",
       "      <th>1</th>\n",
       "      <td>Pandas</td>\n",
       "    </tr>\n",
       "    <tr>\n",
       "      <th>2</th>\n",
       "      <td>Numpy</td>\n",
       "    </tr>\n",
       "    <tr>\n",
       "      <th>3</th>\n",
       "      <td>Scipy</td>\n",
       "    </tr>\n",
       "    <tr>\n",
       "      <th>4</th>\n",
       "      <td>Python</td>\n",
       "    </tr>\n",
       "    <tr>\n",
       "      <th>5</th>\n",
       "      <td>Numpy</td>\n",
       "    </tr>\n",
       "  </tbody>\n",
       "</table>\n",
       "</div>"
      ],
      "text/plain": [
       "        0\n",
       "0  Python\n",
       "1  Pandas\n",
       "2   Numpy\n",
       "3   Scipy\n",
       "4  Python\n",
       "5   Numpy"
      ]
     },
     "execution_count": 154,
     "metadata": {},
     "output_type": "execute_result"
    }
   ],
   "source": [
    "import pandas as pd\n",
    "import numpy as np\n",
    "\n",
    "arr2 = [\"Python\", \"Pandas\", \"Numpy\", \"Scipy\",\"Python\", \"Numpy\"]\n",
    "pd.DataFrame(arr2)\n"
   ]
  },
  {
   "cell_type": "code",
   "execution_count": 155,
   "id": "d5500c50",
   "metadata": {},
   "outputs": [
    {
     "name": "stdout",
     "output_type": "stream",
     "text": [
      "one    3.0\n",
      "two    3.0\n",
      "Name: c, dtype: float64\n"
     ]
    }
   ],
   "source": [
    "import pandas as pd  \n",
    "  \n",
    "info = {'one' : pd.Series([1, 2, 3, 4, 5], index=['a', 'b', 'c', 'd', 'e']),   \n",
    "   'two' : pd.Series([1, 2, 3, 4, 5, 6], index=['a', 'b', 'c', 'd', 'e', 'f'])}  \n",
    "  \n",
    "df = pd.DataFrame(info)  \n",
    "print (df.loc['c'])  \n",
    "\n",
    "# loc takes label name as an argument"
   ]
  },
  {
   "cell_type": "code",
   "execution_count": 159,
   "id": "647f491e",
   "metadata": {},
   "outputs": [
    {
     "name": "stdout",
     "output_type": "stream",
     "text": [
      "one    5.0\n",
      "two    5.0\n",
      "Name: e, dtype: float64\n"
     ]
    }
   ],
   "source": [
    "import pandas as pd  \n",
    "info = {'one' : pd.Series([1, 2, 3, 4, 5], index=['a', 'b', 'c', 'd', 'e']),  \n",
    "   'two' : pd.Series([1, 2, 3, 4, 5, 6], index=['a', 'b', 'c', 'd', 'e', 'f'])}  \n",
    "df = pd.DataFrame(info)  \n",
    "print (df.iloc[4])  \n",
    "\n",
    "\n",
    "# iloc take index as an argument"
   ]
  },
  {
   "cell_type": "code",
   "execution_count": 115,
   "id": "fbe1b7c5",
   "metadata": {},
   "outputs": [
    {
     "name": "stdout",
     "output_type": "stream",
     "text": [
      "   x1  x2\n",
      "0   1   6\n",
      "1   2   7\n",
      "2   3   8\n",
      "3   4   9\n",
      "4   5  10\n"
     ]
    }
   ],
   "source": [
    "x = pd.DataFrame({'x1': [1,2,3,4,5],\n",
    "                  'x2': [6,7,8,9,10]})\n",
    "print(x)\n"
   ]
  },
  {
   "cell_type": "code",
   "execution_count": 98,
   "id": "13795f00",
   "metadata": {},
   "outputs": [
    {
     "data": {
      "text/html": [
       "<div>\n",
       "<style scoped>\n",
       "    .dataframe tbody tr th:only-of-type {\n",
       "        vertical-align: middle;\n",
       "    }\n",
       "\n",
       "    .dataframe tbody tr th {\n",
       "        vertical-align: top;\n",
       "    }\n",
       "\n",
       "    .dataframe thead th {\n",
       "        text-align: right;\n",
       "    }\n",
       "</style>\n",
       "<table border=\"1\" class=\"dataframe\">\n",
       "  <thead>\n",
       "    <tr style=\"text-align: right;\">\n",
       "      <th></th>\n",
       "      <th>Bob</th>\n",
       "      <th>Sue</th>\n",
       "    </tr>\n",
       "  </thead>\n",
       "  <tbody>\n",
       "    <tr>\n",
       "      <th>Product A</th>\n",
       "      <td>I liked it.</td>\n",
       "      <td>Pretty good.</td>\n",
       "    </tr>\n",
       "    <tr>\n",
       "      <th>Product B</th>\n",
       "      <td>It was awful.</td>\n",
       "      <td>Bland.</td>\n",
       "    </tr>\n",
       "  </tbody>\n",
       "</table>\n",
       "</div>"
      ],
      "text/plain": [
       "                     Bob           Sue\n",
       "Product A    I liked it.  Pretty good.\n",
       "Product B  It was awful.        Bland."
      ]
     },
     "execution_count": 98,
     "metadata": {},
     "output_type": "execute_result"
    }
   ],
   "source": [
    "pd.DataFrame({'Bob': ['I liked it.', 'It was awful.'], \n",
    "              'Sue': ['Pretty good.', 'Bland.']},\n",
    "             index=['Product A', 'Product B'])\n"
   ]
  },
  {
   "cell_type": "code",
   "execution_count": 105,
   "id": "1e988681",
   "metadata": {},
   "outputs": [
    {
     "data": {
      "text/html": [
       "<div>\n",
       "<style scoped>\n",
       "    .dataframe tbody tr th:only-of-type {\n",
       "        vertical-align: middle;\n",
       "    }\n",
       "\n",
       "    .dataframe tbody tr th {\n",
       "        vertical-align: top;\n",
       "    }\n",
       "\n",
       "    .dataframe thead th {\n",
       "        text-align: right;\n",
       "    }\n",
       "</style>\n",
       "<table border=\"1\" class=\"dataframe\">\n",
       "  <thead>\n",
       "    <tr style=\"text-align: right;\">\n",
       "      <th></th>\n",
       "      <th>Bob</th>\n",
       "      <th>Sue</th>\n",
       "    </tr>\n",
       "  </thead>\n",
       "  <tbody>\n",
       "    <tr>\n",
       "      <th>0</th>\n",
       "      <td>1</td>\n",
       "      <td>Pretty good.</td>\n",
       "    </tr>\n",
       "    <tr>\n",
       "      <th>1</th>\n",
       "      <td>2</td>\n",
       "      <td>Bland.</td>\n",
       "    </tr>\n",
       "  </tbody>\n",
       "</table>\n",
       "</div>"
      ],
      "text/plain": [
       "   Bob           Sue\n",
       "0    1  Pretty good.\n",
       "1    2        Bland."
      ]
     },
     "execution_count": 105,
     "metadata": {},
     "output_type": "execute_result"
    }
   ],
   "source": [
    "x = pd.DataFrame({'Bob': [1,2],\n",
    "              'Sue': ['Pretty good.', 'Bland.']})\n",
    "x\n"
   ]
  },
  {
   "cell_type": "markdown",
   "id": "340e5f7d",
   "metadata": {},
   "source": [
    "The Pandas apply() function allows the user to pass a function and apply it to every single value of the Pandas series.\n",
    "\n",
    "axis: {0 or 'index', 1 or 'columns'}, default value 0\n",
    "\n",
    "It is an axis along which the function is applied. It can have two values:\n",
    "\n",
    "0 or 'index': It applies the function to each of the columns.\n",
    "\n",
    "1 or 'columns': It applies the function to each of the rows.\n"
   ]
  },
  {
   "cell_type": "code",
   "execution_count": 160,
   "id": "13a0dd95",
   "metadata": {},
   "outputs": [
    {
     "data": {
      "text/html": [
       "<div>\n",
       "<style scoped>\n",
       "    .dataframe tbody tr th:only-of-type {\n",
       "        vertical-align: middle;\n",
       "    }\n",
       "\n",
       "    .dataframe tbody tr th {\n",
       "        vertical-align: top;\n",
       "    }\n",
       "\n",
       "    .dataframe thead th {\n",
       "        text-align: right;\n",
       "    }\n",
       "</style>\n",
       "<table border=\"1\" class=\"dataframe\">\n",
       "  <thead>\n",
       "    <tr style=\"text-align: right;\">\n",
       "      <th></th>\n",
       "      <th>0</th>\n",
       "    </tr>\n",
       "  </thead>\n",
       "  <tbody>\n",
       "    <tr>\n",
       "      <th>0</th>\n",
       "      <td>1.414214</td>\n",
       "    </tr>\n",
       "    <tr>\n",
       "      <th>1</th>\n",
       "      <td>2.000000</td>\n",
       "    </tr>\n",
       "    <tr>\n",
       "      <th>2</th>\n",
       "      <td>2.449490</td>\n",
       "    </tr>\n",
       "    <tr>\n",
       "      <th>3</th>\n",
       "      <td>2.828427</td>\n",
       "    </tr>\n",
       "  </tbody>\n",
       "</table>\n",
       "</div>"
      ],
      "text/plain": [
       "          0\n",
       "0  1.414214\n",
       "1  2.000000\n",
       "2  2.449490\n",
       "3  2.828427"
      ]
     },
     "execution_count": 160,
     "metadata": {},
     "output_type": "execute_result"
    }
   ],
   "source": [
    "num = pd.DataFrame([2,4,6,8])\n",
    "num.apply(np.sqrt)"
   ]
  },
  {
   "cell_type": "markdown",
   "id": "59dc7306",
   "metadata": {},
   "source": [
    "DataFrame.aggregate() function is to apply some aggregation to one or more column."
   ]
  },
  {
   "cell_type": "code",
   "execution_count": 167,
   "id": "a0eb81e8",
   "metadata": {},
   "outputs": [
    {
     "data": {
      "text/plain": [
       "0    8\n",
       "dtype: int64"
      ]
     },
     "execution_count": 167,
     "metadata": {},
     "output_type": "execute_result"
    }
   ],
   "source": [
    "num.aggregate('max')\n",
    "# num.aggregate('min')\n",
    "# num.aggregate('sum')"
   ]
  },
  {
   "cell_type": "markdown",
   "id": "b8cf943e",
   "metadata": {},
   "source": [
    "assign() method is used for adding a new column into a DataFrame."
   ]
  },
  {
   "cell_type": "code",
   "execution_count": 170,
   "id": "7e3b418d",
   "metadata": {},
   "outputs": [
    {
     "data": {
      "text/html": [
       "<div>\n",
       "<style scoped>\n",
       "    .dataframe tbody tr th:only-of-type {\n",
       "        vertical-align: middle;\n",
       "    }\n",
       "\n",
       "    .dataframe tbody tr th {\n",
       "        vertical-align: top;\n",
       "    }\n",
       "\n",
       "    .dataframe thead th {\n",
       "        text-align: right;\n",
       "    }\n",
       "</style>\n",
       "<table border=\"1\" class=\"dataframe\">\n",
       "  <thead>\n",
       "    <tr style=\"text-align: right;\">\n",
       "      <th></th>\n",
       "      <th>num</th>\n",
       "      <th>name</th>\n",
       "    </tr>\n",
       "  </thead>\n",
       "  <tbody>\n",
       "    <tr>\n",
       "      <th>0</th>\n",
       "      <td>1</td>\n",
       "      <td>A</td>\n",
       "    </tr>\n",
       "    <tr>\n",
       "      <th>1</th>\n",
       "      <td>2</td>\n",
       "      <td>B</td>\n",
       "    </tr>\n",
       "    <tr>\n",
       "      <th>2</th>\n",
       "      <td>3</td>\n",
       "      <td>C</td>\n",
       "    </tr>\n",
       "    <tr>\n",
       "      <th>3</th>\n",
       "      <td>4</td>\n",
       "      <td>D</td>\n",
       "    </tr>\n",
       "  </tbody>\n",
       "</table>\n",
       "</div>"
      ],
      "text/plain": [
       "   num name\n",
       "0    1    A\n",
       "1    2    B\n",
       "2    3    C\n",
       "3    4    D"
      ]
     },
     "execution_count": 170,
     "metadata": {},
     "output_type": "execute_result"
    }
   ],
   "source": [
    "stud = pd.DataFrame()\n",
    "stud['num'] = [1,2,3,4]\n",
    "stud.assign(name = ['A','B','C','D'])"
   ]
  },
  {
   "cell_type": "markdown",
   "id": "72d8ef8f",
   "metadata": {},
   "source": [
    "The astype() method is used for casting the pandas object to a specified dtype.astype() function. It can also convert any suitable existing column to a categorical type."
   ]
  },
  {
   "cell_type": "code",
   "execution_count": 176,
   "id": "7100d113",
   "metadata": {},
   "outputs": [
    {
     "name": "stdout",
     "output_type": "stream",
     "text": [
      "<class 'pandas.core.frame.DataFrame'>\n"
     ]
    },
    {
     "data": {
      "text/plain": [
       "0    int64\n",
       "dtype: object"
      ]
     },
     "execution_count": 176,
     "metadata": {},
     "output_type": "execute_result"
    }
   ],
   "source": [
    "stud = pd.DataFrame([1,2,3,4,5])\n",
    "print(type(stud))\n",
    "stud.astype('int64').dtypes\n"
   ]
  },
  {
   "cell_type": "markdown",
   "id": "eada3043",
   "metadata": {},
   "source": [
    "where() method is used to check the data frame for one or more conditions and return the result accordingly"
   ]
  },
  {
   "cell_type": "code",
   "execution_count": 179,
   "id": "8156d8a8",
   "metadata": {},
   "outputs": [
    {
     "data": {
      "text/plain": [
       "'      Id  SepalLengthCm  SepalWidthCm  PetalLengthCm  PetalWidthCm          Species\\n0      1            5.1           3.5            1.4           0.2      Iris-setosa\\n1      2            4.9           3.0            1.4           0.2      Iris-setosa\\n2      3            4.7           3.2            1.3           0.2      Iris-setosa\\n3      4            4.6           3.1            1.5           0.2      Iris-setosa\\n4      5            5.0           3.6            1.4           0.2      Iris-setosa\\n5      6            5.4           3.9            1.7           0.4      Iris-setosa\\n6      7            4.6           3.4            1.4           0.3      Iris-setosa\\n7      8            5.0           3.4            1.5           0.2      Iris-setosa\\n8      9            4.4           2.9            1.4           0.2      Iris-setosa\\n9     10            4.9           3.1            1.5           0.1      Iris-setosa\\n10    11            5.4           3.7            1.5           0.2      Iris-setosa\\n11    12            4.8           3.4            1.6           0.2      Iris-setosa\\n12    13            4.8           3.0            1.4           0.1      Iris-setosa\\n13    14            4.3           3.0            1.1           0.1      Iris-setosa\\n14    15            5.8           4.0            1.2           0.2      Iris-setosa\\n15    16            5.7           4.4            1.5           0.4      Iris-setosa\\n16    17            5.4           3.9            1.3           0.4      Iris-setosa\\n17    18            5.1           3.5            1.4           0.3      Iris-setosa\\n18    19            5.7           3.8            1.7           0.3      Iris-setosa\\n19    20            5.1           3.8            1.5           0.3      Iris-setosa\\n20    21            5.4           3.4            1.7           0.2      Iris-setosa\\n21    22            5.1           3.7            1.5           0.4      Iris-setosa\\n22    23            4.6           3.6            1.0           0.2      Iris-setosa\\n23    24            5.1           3.3            1.7           0.5      Iris-setosa\\n24    25            4.8           3.4            1.9           0.2      Iris-setosa\\n25    26            5.0           3.0            1.6           0.2      Iris-setosa\\n26    27            5.0           3.4            1.6           0.4      Iris-setosa\\n27    28            5.2           3.5            1.5           0.2      Iris-setosa\\n28    29            5.2           3.4            1.4           0.2      Iris-setosa\\n29    30            4.7           3.2            1.6           0.2      Iris-setosa\\n30    31            4.8           3.1            1.6           0.2      Iris-setosa\\n31    32            5.4           3.4            1.5           0.4      Iris-setosa\\n32    33            5.2           4.1            1.5           0.1      Iris-setosa\\n33    34            5.5           4.2            1.4           0.2      Iris-setosa\\n34    35            4.9           3.1            1.5           0.1      Iris-setosa\\n35    36            5.0           3.2            1.2           0.2      Iris-setosa\\n36    37            5.5           3.5            1.3           0.2      Iris-setosa\\n37    38            4.9           3.1            1.5           0.1      Iris-setosa\\n38    39            4.4           3.0            1.3           0.2      Iris-setosa\\n39    40            5.1           3.4            1.5           0.2      Iris-setosa\\n40    41            5.0           3.5            1.3           0.3      Iris-setosa\\n41    42            4.5           2.3            1.3           0.3      Iris-setosa\\n42    43            4.4           3.2            1.3           0.2      Iris-setosa\\n43    44            5.0           3.5            1.6           0.6      Iris-setosa\\n44    45            5.1           3.8            1.9           0.4      Iris-setosa\\n45    46            4.8           3.0            1.4           0.3      Iris-setosa\\n46    47            5.1           3.8            1.6           0.2      Iris-setosa\\n47    48            4.6           3.2            1.4           0.2      Iris-setosa\\n48    49            5.3           3.7            1.5           0.2      Iris-setosa\\n49    50            5.0           3.3            1.4           0.2      Iris-setosa\\n50    51            7.0           3.2            4.7           1.4  Iris-versicolor\\n51    52            6.4           3.2            4.5           1.5  Iris-versicolor\\n52    53            6.9           3.1            4.9           1.5  Iris-versicolor\\n53    54            5.5           2.3            4.0           1.3  Iris-versicolor\\n54    55            6.5           2.8            4.6           1.5  Iris-versicolor\\n55    56            5.7           2.8            4.5           1.3  Iris-versicolor\\n56    57            6.3           3.3            4.7           1.6  Iris-versicolor\\n57    58            4.9           2.4            3.3           1.0  Iris-versicolor\\n58    59            6.6           2.9            4.6           1.3  Iris-versicolor\\n59    60            5.2           2.7            3.9           1.4  Iris-versicolor\\n60    61            5.0           2.0            3.5           1.0  Iris-versicolor\\n61    62            5.9           3.0            4.2           1.5  Iris-versicolor\\n62    63            6.0           2.2            4.0           1.0  Iris-versicolor\\n63    64            6.1           2.9            4.7           1.4  Iris-versicolor\\n64    65            5.6           2.9            3.6           1.3  Iris-versicolor\\n65    66            6.7           3.1            4.4           1.4  Iris-versicolor\\n66    67            5.6           3.0            4.5           1.5  Iris-versicolor\\n67    68            5.8           2.7            4.1           1.0  Iris-versicolor\\n68    69            6.2           2.2            4.5           1.5  Iris-versicolor\\n69    70            5.6           2.5            3.9           1.1  Iris-versicolor\\n70    71            5.9           3.2            4.8           1.8  Iris-versicolor\\n71    72            6.1           2.8            4.0           1.3  Iris-versicolor\\n72    73            6.3           2.5            4.9           1.5  Iris-versicolor\\n73    74            6.1           2.8            4.7           1.2  Iris-versicolor\\n74    75            6.4           2.9            4.3           1.3  Iris-versicolor\\n75    76            6.6           3.0            4.4           1.4  Iris-versicolor\\n76    77            6.8           2.8            4.8           1.4  Iris-versicolor\\n77    78            6.7           3.0            5.0           1.7  Iris-versicolor\\n78    79            6.0           2.9            4.5           1.5  Iris-versicolor\\n79    80            5.7           2.6            3.5           1.0  Iris-versicolor\\n80    81            5.5           2.4            3.8           1.1  Iris-versicolor\\n81    82            5.5           2.4            3.7           1.0  Iris-versicolor\\n82    83            5.8           2.7            3.9           1.2  Iris-versicolor\\n83    84            6.0           2.7            5.1           1.6  Iris-versicolor\\n84    85            5.4           3.0            4.5           1.5  Iris-versicolor\\n85    86            6.0           3.4            4.5           1.6  Iris-versicolor\\n86    87            6.7           3.1            4.7           1.5  Iris-versicolor\\n87    88            6.3           2.3            4.4           1.3  Iris-versicolor\\n88    89            5.6           3.0            4.1           1.3  Iris-versicolor\\n89    90            5.5           2.5            4.0           1.3  Iris-versicolor\\n90    91            5.5           2.6            4.4           1.2  Iris-versicolor\\n91    92            6.1           3.0            4.6           1.4  Iris-versicolor\\n92    93            5.8           2.6            4.0           1.2  Iris-versicolor\\n93    94            5.0           2.3            3.3           1.0  Iris-versicolor\\n94    95            5.6           2.7            4.2           1.3  Iris-versicolor\\n95    96            5.7           3.0            4.2           1.2  Iris-versicolor\\n96    97            5.7           2.9            4.2           1.3  Iris-versicolor\\n97    98            6.2           2.9            4.3           1.3  Iris-versicolor\\n98    99            5.1           2.5            3.0           1.1  Iris-versicolor\\n99   100            5.7           2.8            4.1           1.3  Iris-versicolor\\n100  101            6.3           3.3            6.0           2.5   Iris-virginica\\n101  102            5.8           2.7            5.1           1.9   Iris-virginica\\n102  103            7.1           3.0            5.9           2.1   Iris-virginica\\n103  104            6.3           2.9            5.6           1.8   Iris-virginica\\n104  105            6.5           3.0            5.8           2.2   Iris-virginica\\n105  106            7.6           3.0            6.6           2.1   Iris-virginica\\n106  107            4.9           2.5            4.5           1.7   Iris-virginica\\n107  108            7.3           2.9            6.3           1.8   Iris-virginica\\n108  109            6.7           2.5            5.8           1.8   Iris-virginica\\n109  110            7.2           3.6            6.1           2.5   Iris-virginica\\n110  111            6.5           3.2            5.1           2.0   Iris-virginica\\n111  112            6.4           2.7            5.3           1.9   Iris-virginica\\n112  113            6.8           3.0            5.5           2.1   Iris-virginica\\n113  114            5.7           2.5            5.0           2.0   Iris-virginica\\n114  115            5.8           2.8            5.1           2.4   Iris-virginica\\n115  116            6.4           3.2            5.3           2.3   Iris-virginica\\n116  117            6.5           3.0            5.5           1.8   Iris-virginica\\n117  118            7.7           3.8            6.7           2.2   Iris-virginica\\n118  119            7.7           2.6            6.9           2.3   Iris-virginica\\n119  120            6.0           2.2            5.0           1.5   Iris-virginica\\n120  121            6.9           3.2            5.7           2.3   Iris-virginica\\n121  122            5.6           2.8            4.9           2.0   Iris-virginica\\n122  123            7.7           2.8            6.7           2.0   Iris-virginica\\n123  124            6.3           2.7            4.9           1.8   Iris-virginica\\n124  125            6.7           3.3            5.7           2.1   Iris-virginica\\n125  126            7.2           3.2            6.0           1.8   Iris-virginica\\n126  127            6.2           2.8            4.8           1.8   Iris-virginica\\n127  128            6.1           3.0            4.9           1.8   Iris-virginica\\n128  129            6.4           2.8            5.6           2.1   Iris-virginica\\n129  130            7.2           3.0            5.8           1.6   Iris-virginica\\n130  131            7.4           2.8            6.1           1.9   Iris-virginica\\n131  132            7.9           3.8            6.4           2.0   Iris-virginica\\n132  133            6.4           2.8            5.6           2.2   Iris-virginica\\n133  134            6.3           2.8            5.1           1.5   Iris-virginica\\n134  135            6.1           2.6            5.6           1.4   Iris-virginica\\n135  136            7.7           3.0            6.1           2.3   Iris-virginica\\n136  137            6.3           3.4            5.6           2.4   Iris-virginica\\n137  138            6.4           3.1            5.5           1.8   Iris-virginica\\n138  139            6.0           3.0            4.8           1.8   Iris-virginica\\n139  140            6.9           3.1            5.4           2.1   Iris-virginica\\n140  141            6.7           3.1            5.6           2.4   Iris-virginica\\n141  142            6.9           3.1            5.1           2.3   Iris-virginica\\n142  143            5.8           2.7            5.1           1.9   Iris-virginica\\n143  144            6.8           3.2            5.9           2.3   Iris-virginica\\n144  145            6.7           3.3            5.7           2.5   Iris-virginica\\n145  146            6.7           3.0            5.2           2.3   Iris-virginica\\n146  147            6.3           2.5            5.0           1.9   Iris-virginica\\n147  148            6.5           3.0            5.2           2.0   Iris-virginica\\n148  149            6.2           3.4            5.4           2.3   Iris-virginica\\n149  150            5.9           3.0            5.1           1.8   Iris-virginica'"
      ]
     },
     "execution_count": 179,
     "metadata": {},
     "output_type": "execute_result"
    }
   ],
   "source": [
    "import pandas as pd\n",
    "df = pd.read_csv('iris.csv')\n",
    "df.to_string() # to print entire data from dataset"
   ]
  },
  {
   "cell_type": "code",
   "execution_count": 180,
   "id": "57faefd6",
   "metadata": {},
   "outputs": [
    {
     "data": {
      "text/html": [
       "<div>\n",
       "<style scoped>\n",
       "    .dataframe tbody tr th:only-of-type {\n",
       "        vertical-align: middle;\n",
       "    }\n",
       "\n",
       "    .dataframe tbody tr th {\n",
       "        vertical-align: top;\n",
       "    }\n",
       "\n",
       "    .dataframe thead th {\n",
       "        text-align: right;\n",
       "    }\n",
       "</style>\n",
       "<table border=\"1\" class=\"dataframe\">\n",
       "  <thead>\n",
       "    <tr style=\"text-align: right;\">\n",
       "      <th></th>\n",
       "      <th>Id</th>\n",
       "      <th>SepalLengthCm</th>\n",
       "      <th>SepalWidthCm</th>\n",
       "      <th>PetalLengthCm</th>\n",
       "      <th>PetalWidthCm</th>\n",
       "      <th>Species</th>\n",
       "    </tr>\n",
       "  </thead>\n",
       "  <tbody>\n",
       "    <tr>\n",
       "      <th>0</th>\n",
       "      <td>1</td>\n",
       "      <td>5.1</td>\n",
       "      <td>3.5</td>\n",
       "      <td>1.4</td>\n",
       "      <td>0.2</td>\n",
       "      <td>Iris-setosa</td>\n",
       "    </tr>\n",
       "    <tr>\n",
       "      <th>1</th>\n",
       "      <td>2</td>\n",
       "      <td>4.9</td>\n",
       "      <td>3.0</td>\n",
       "      <td>1.4</td>\n",
       "      <td>0.2</td>\n",
       "      <td>Iris-setosa</td>\n",
       "    </tr>\n",
       "    <tr>\n",
       "      <th>2</th>\n",
       "      <td>3</td>\n",
       "      <td>4.7</td>\n",
       "      <td>3.2</td>\n",
       "      <td>1.3</td>\n",
       "      <td>0.2</td>\n",
       "      <td>Iris-setosa</td>\n",
       "    </tr>\n",
       "    <tr>\n",
       "      <th>3</th>\n",
       "      <td>4</td>\n",
       "      <td>4.6</td>\n",
       "      <td>3.1</td>\n",
       "      <td>1.5</td>\n",
       "      <td>0.2</td>\n",
       "      <td>Iris-setosa</td>\n",
       "    </tr>\n",
       "    <tr>\n",
       "      <th>4</th>\n",
       "      <td>5</td>\n",
       "      <td>5.0</td>\n",
       "      <td>3.6</td>\n",
       "      <td>1.4</td>\n",
       "      <td>0.2</td>\n",
       "      <td>Iris-setosa</td>\n",
       "    </tr>\n",
       "  </tbody>\n",
       "</table>\n",
       "</div>"
      ],
      "text/plain": [
       "   Id  SepalLengthCm  SepalWidthCm  PetalLengthCm  PetalWidthCm      Species\n",
       "0   1            5.1           3.5            1.4           0.2  Iris-setosa\n",
       "1   2            4.9           3.0            1.4           0.2  Iris-setosa\n",
       "2   3            4.7           3.2            1.3           0.2  Iris-setosa\n",
       "3   4            4.6           3.1            1.5           0.2  Iris-setosa\n",
       "4   5            5.0           3.6            1.4           0.2  Iris-setosa"
      ]
     },
     "execution_count": 180,
     "metadata": {},
     "output_type": "execute_result"
    }
   ],
   "source": [
    "df.head() # print first 5 rows"
   ]
  },
  {
   "cell_type": "code",
   "execution_count": 182,
   "id": "c5f3439c",
   "metadata": {},
   "outputs": [
    {
     "data": {
      "text/html": [
       "<div>\n",
       "<style scoped>\n",
       "    .dataframe tbody tr th:only-of-type {\n",
       "        vertical-align: middle;\n",
       "    }\n",
       "\n",
       "    .dataframe tbody tr th {\n",
       "        vertical-align: top;\n",
       "    }\n",
       "\n",
       "    .dataframe thead th {\n",
       "        text-align: right;\n",
       "    }\n",
       "</style>\n",
       "<table border=\"1\" class=\"dataframe\">\n",
       "  <thead>\n",
       "    <tr style=\"text-align: right;\">\n",
       "      <th></th>\n",
       "      <th>Id</th>\n",
       "      <th>SepalLengthCm</th>\n",
       "      <th>SepalWidthCm</th>\n",
       "      <th>PetalLengthCm</th>\n",
       "      <th>PetalWidthCm</th>\n",
       "      <th>Species</th>\n",
       "    </tr>\n",
       "  </thead>\n",
       "  <tbody>\n",
       "    <tr>\n",
       "      <th>145</th>\n",
       "      <td>146</td>\n",
       "      <td>6.7</td>\n",
       "      <td>3.0</td>\n",
       "      <td>5.2</td>\n",
       "      <td>2.3</td>\n",
       "      <td>Iris-virginica</td>\n",
       "    </tr>\n",
       "    <tr>\n",
       "      <th>146</th>\n",
       "      <td>147</td>\n",
       "      <td>6.3</td>\n",
       "      <td>2.5</td>\n",
       "      <td>5.0</td>\n",
       "      <td>1.9</td>\n",
       "      <td>Iris-virginica</td>\n",
       "    </tr>\n",
       "    <tr>\n",
       "      <th>147</th>\n",
       "      <td>148</td>\n",
       "      <td>6.5</td>\n",
       "      <td>3.0</td>\n",
       "      <td>5.2</td>\n",
       "      <td>2.0</td>\n",
       "      <td>Iris-virginica</td>\n",
       "    </tr>\n",
       "    <tr>\n",
       "      <th>148</th>\n",
       "      <td>149</td>\n",
       "      <td>6.2</td>\n",
       "      <td>3.4</td>\n",
       "      <td>5.4</td>\n",
       "      <td>2.3</td>\n",
       "      <td>Iris-virginica</td>\n",
       "    </tr>\n",
       "    <tr>\n",
       "      <th>149</th>\n",
       "      <td>150</td>\n",
       "      <td>5.9</td>\n",
       "      <td>3.0</td>\n",
       "      <td>5.1</td>\n",
       "      <td>1.8</td>\n",
       "      <td>Iris-virginica</td>\n",
       "    </tr>\n",
       "  </tbody>\n",
       "</table>\n",
       "</div>"
      ],
      "text/plain": [
       "      Id  SepalLengthCm  SepalWidthCm  PetalLengthCm  PetalWidthCm  \\\n",
       "145  146            6.7           3.0            5.2           2.3   \n",
       "146  147            6.3           2.5            5.0           1.9   \n",
       "147  148            6.5           3.0            5.2           2.0   \n",
       "148  149            6.2           3.4            5.4           2.3   \n",
       "149  150            5.9           3.0            5.1           1.8   \n",
       "\n",
       "            Species  \n",
       "145  Iris-virginica  \n",
       "146  Iris-virginica  \n",
       "147  Iris-virginica  \n",
       "148  Iris-virginica  \n",
       "149  Iris-virginica  "
      ]
     },
     "execution_count": 182,
     "metadata": {},
     "output_type": "execute_result"
    }
   ],
   "source": [
    "df.tail() # print last 5 rows"
   ]
  },
  {
   "cell_type": "code",
   "execution_count": 185,
   "id": "f477ccae",
   "metadata": {},
   "outputs": [
    {
     "name": "stdout",
     "output_type": "stream",
     "text": [
      "120\n"
     ]
    }
   ],
   "source": [
    "print(pd.options.display.max_rows)"
   ]
  },
  {
   "cell_type": "markdown",
   "id": "56f796c1",
   "metadata": {},
   "source": [
    "pd.read_json() to read a json file"
   ]
  },
  {
   "cell_type": "code",
   "execution_count": null,
   "id": "1cb8ab3e",
   "metadata": {},
   "outputs": [],
   "source": [
    "df = pd.read_json('data.json')\n",
    "df.to_string() # print entire json data"
   ]
  },
  {
   "cell_type": "code",
   "execution_count": 190,
   "id": "0686b459",
   "metadata": {},
   "outputs": [
    {
     "name": "stdout",
     "output_type": "stream",
     "text": [
      "   Duration  Pulse  Maxpulse  Calories\n",
      "0        60    110       130       409\n",
      "1        60    117       145       479\n",
      "2        60    103       135       340\n",
      "3        45    109       175       282\n",
      "4        45    117       148       406\n",
      "5        60    102       127       300\n"
     ]
    }
   ],
   "source": [
    "import pandas as pd\n",
    "\n",
    "data = {\n",
    "  \"Duration\":{\n",
    "    \"0\":60,\n",
    "    \"1\":60,\n",
    "    \"2\":60,\n",
    "    \"3\":45,\n",
    "    \"4\":45,\n",
    "    \"5\":60\n",
    "  },\n",
    "  \"Pulse\":{\n",
    "    \"0\":110,\n",
    "    \"1\":117,\n",
    "    \"2\":103,\n",
    "    \"3\":109,\n",
    "    \"4\":117,\n",
    "    \"5\":102\n",
    "  },\n",
    "  \"Maxpulse\":{\n",
    "    \"0\":130,\n",
    "    \"1\":145,\n",
    "    \"2\":135,\n",
    "    \"3\":175,\n",
    "    \"4\":148,\n",
    "    \"5\":127\n",
    "  },\n",
    "  \"Calories\":{\n",
    "    \"0\":409,\n",
    "    \"1\":479,\n",
    "    \"2\":340,\n",
    "    \"3\":282,\n",
    "    \"4\":406,\n",
    "    \"5\":300\n",
    "  }\n",
    "}\n",
    "\n",
    "df = pd.DataFrame(data)\n",
    "df.to_json('data.json')\n",
    "print(df) "
   ]
  },
  {
   "cell_type": "code",
   "execution_count": 195,
   "id": "a460e15c",
   "metadata": {},
   "outputs": [
    {
     "name": "stdout",
     "output_type": "stream",
     "text": [
      "<class 'pandas.core.frame.DataFrame'>\n",
      "Index: 6 entries, 0 to 5\n",
      "Data columns (total 4 columns):\n",
      " #   Column    Non-Null Count  Dtype\n",
      "---  ------    --------------  -----\n",
      " 0   Duration  6 non-null      int64\n",
      " 1   Pulse     6 non-null      int64\n",
      " 2   Maxpulse  6 non-null      int64\n",
      " 3   Calories  6 non-null      int64\n",
      "dtypes: int64(4)\n",
      "memory usage: 412.0+ bytes\n"
     ]
    }
   ],
   "source": [
    "df.info() # The info() method also tells us how many Non-Null values there are present in each column"
   ]
  },
  {
   "cell_type": "code",
   "execution_count": 196,
   "id": "dbd3bf3e",
   "metadata": {},
   "outputs": [],
   "source": [
    "import pandas as pd\n",
    "df = pd.read_csv('iris.csv')"
   ]
  },
  {
   "cell_type": "code",
   "execution_count": 197,
   "id": "e4578941",
   "metadata": {},
   "outputs": [
    {
     "data": {
      "text/html": [
       "<div>\n",
       "<style scoped>\n",
       "    .dataframe tbody tr th:only-of-type {\n",
       "        vertical-align: middle;\n",
       "    }\n",
       "\n",
       "    .dataframe tbody tr th {\n",
       "        vertical-align: top;\n",
       "    }\n",
       "\n",
       "    .dataframe thead th {\n",
       "        text-align: right;\n",
       "    }\n",
       "</style>\n",
       "<table border=\"1\" class=\"dataframe\">\n",
       "  <thead>\n",
       "    <tr style=\"text-align: right;\">\n",
       "      <th></th>\n",
       "      <th>Id</th>\n",
       "      <th>SepalLengthCm</th>\n",
       "      <th>SepalWidthCm</th>\n",
       "      <th>PetalLengthCm</th>\n",
       "      <th>PetalWidthCm</th>\n",
       "      <th>Species</th>\n",
       "    </tr>\n",
       "  </thead>\n",
       "  <tbody>\n",
       "    <tr>\n",
       "      <th>0</th>\n",
       "      <td>1</td>\n",
       "      <td>5.1</td>\n",
       "      <td>3.5</td>\n",
       "      <td>1.4</td>\n",
       "      <td>0.2</td>\n",
       "      <td>Iris-setosa</td>\n",
       "    </tr>\n",
       "    <tr>\n",
       "      <th>1</th>\n",
       "      <td>2</td>\n",
       "      <td>4.9</td>\n",
       "      <td>3.0</td>\n",
       "      <td>1.4</td>\n",
       "      <td>0.2</td>\n",
       "      <td>Iris-setosa</td>\n",
       "    </tr>\n",
       "    <tr>\n",
       "      <th>2</th>\n",
       "      <td>3</td>\n",
       "      <td>4.7</td>\n",
       "      <td>3.2</td>\n",
       "      <td>1.3</td>\n",
       "      <td>0.2</td>\n",
       "      <td>Iris-setosa</td>\n",
       "    </tr>\n",
       "    <tr>\n",
       "      <th>3</th>\n",
       "      <td>4</td>\n",
       "      <td>4.6</td>\n",
       "      <td>3.1</td>\n",
       "      <td>1.5</td>\n",
       "      <td>0.2</td>\n",
       "      <td>Iris-setosa</td>\n",
       "    </tr>\n",
       "    <tr>\n",
       "      <th>4</th>\n",
       "      <td>5</td>\n",
       "      <td>5.0</td>\n",
       "      <td>3.6</td>\n",
       "      <td>1.4</td>\n",
       "      <td>0.2</td>\n",
       "      <td>Iris-setosa</td>\n",
       "    </tr>\n",
       "    <tr>\n",
       "      <th>...</th>\n",
       "      <td>...</td>\n",
       "      <td>...</td>\n",
       "      <td>...</td>\n",
       "      <td>...</td>\n",
       "      <td>...</td>\n",
       "      <td>...</td>\n",
       "    </tr>\n",
       "    <tr>\n",
       "      <th>145</th>\n",
       "      <td>146</td>\n",
       "      <td>6.7</td>\n",
       "      <td>3.0</td>\n",
       "      <td>5.2</td>\n",
       "      <td>2.3</td>\n",
       "      <td>Iris-virginica</td>\n",
       "    </tr>\n",
       "    <tr>\n",
       "      <th>146</th>\n",
       "      <td>147</td>\n",
       "      <td>6.3</td>\n",
       "      <td>2.5</td>\n",
       "      <td>5.0</td>\n",
       "      <td>1.9</td>\n",
       "      <td>Iris-virginica</td>\n",
       "    </tr>\n",
       "    <tr>\n",
       "      <th>147</th>\n",
       "      <td>148</td>\n",
       "      <td>6.5</td>\n",
       "      <td>3.0</td>\n",
       "      <td>5.2</td>\n",
       "      <td>2.0</td>\n",
       "      <td>Iris-virginica</td>\n",
       "    </tr>\n",
       "    <tr>\n",
       "      <th>148</th>\n",
       "      <td>149</td>\n",
       "      <td>6.2</td>\n",
       "      <td>3.4</td>\n",
       "      <td>5.4</td>\n",
       "      <td>2.3</td>\n",
       "      <td>Iris-virginica</td>\n",
       "    </tr>\n",
       "    <tr>\n",
       "      <th>149</th>\n",
       "      <td>150</td>\n",
       "      <td>5.9</td>\n",
       "      <td>3.0</td>\n",
       "      <td>5.1</td>\n",
       "      <td>1.8</td>\n",
       "      <td>Iris-virginica</td>\n",
       "    </tr>\n",
       "  </tbody>\n",
       "</table>\n",
       "<p>150 rows × 6 columns</p>\n",
       "</div>"
      ],
      "text/plain": [
       "      Id  SepalLengthCm  SepalWidthCm  PetalLengthCm  PetalWidthCm  \\\n",
       "0      1            5.1           3.5            1.4           0.2   \n",
       "1      2            4.9           3.0            1.4           0.2   \n",
       "2      3            4.7           3.2            1.3           0.2   \n",
       "3      4            4.6           3.1            1.5           0.2   \n",
       "4      5            5.0           3.6            1.4           0.2   \n",
       "..   ...            ...           ...            ...           ...   \n",
       "145  146            6.7           3.0            5.2           2.3   \n",
       "146  147            6.3           2.5            5.0           1.9   \n",
       "147  148            6.5           3.0            5.2           2.0   \n",
       "148  149            6.2           3.4            5.4           2.3   \n",
       "149  150            5.9           3.0            5.1           1.8   \n",
       "\n",
       "            Species  \n",
       "0       Iris-setosa  \n",
       "1       Iris-setosa  \n",
       "2       Iris-setosa  \n",
       "3       Iris-setosa  \n",
       "4       Iris-setosa  \n",
       "..              ...  \n",
       "145  Iris-virginica  \n",
       "146  Iris-virginica  \n",
       "147  Iris-virginica  \n",
       "148  Iris-virginica  \n",
       "149  Iris-virginica  \n",
       "\n",
       "[150 rows x 6 columns]"
      ]
     },
     "execution_count": 197,
     "metadata": {},
     "output_type": "execute_result"
    }
   ],
   "source": [
    "df"
   ]
  },
  {
   "cell_type": "code",
   "execution_count": 198,
   "id": "4cc4b084",
   "metadata": {},
   "outputs": [
    {
     "name": "stdout",
     "output_type": "stream",
     "text": [
      "<class 'pandas.core.frame.DataFrame'>\n",
      "RangeIndex: 150 entries, 0 to 149\n",
      "Data columns (total 6 columns):\n",
      " #   Column         Non-Null Count  Dtype  \n",
      "---  ------         --------------  -----  \n",
      " 0   Id             150 non-null    int64  \n",
      " 1   SepalLengthCm  150 non-null    float64\n",
      " 2   SepalWidthCm   150 non-null    float64\n",
      " 3   PetalLengthCm  150 non-null    float64\n",
      " 4   PetalWidthCm   150 non-null    float64\n",
      " 5   Species        150 non-null    object \n",
      "dtypes: float64(4), int64(1), object(1)\n",
      "memory usage: 7.2+ KB\n"
     ]
    }
   ],
   "source": [
    "df.info()"
   ]
  },
  {
   "cell_type": "code",
   "execution_count": 202,
   "id": "755cf846",
   "metadata": {},
   "outputs": [
    {
     "data": {
      "text/plain": [
       "Id               0\n",
       "SepalLengthCm    0\n",
       "SepalWidthCm     0\n",
       "PetalLengthCm    0\n",
       "PetalWidthCm     0\n",
       "Species          0\n",
       "dtype: int64"
      ]
     },
     "execution_count": 202,
     "metadata": {},
     "output_type": "execute_result"
    }
   ],
   "source": [
    "df.isna().sum() # print NAN values present in dataset"
   ]
  },
  {
   "cell_type": "code",
   "execution_count": 204,
   "id": "eb1b77ba",
   "metadata": {},
   "outputs": [],
   "source": [
    "df.dropna(inplace = True) # drop NAN values from dataset"
   ]
  },
  {
   "cell_type": "code",
   "execution_count": 205,
   "id": "beb096ff",
   "metadata": {},
   "outputs": [],
   "source": [
    "df.fillna(130, inplace = True) #allows to replace empty cells with a value\n",
    "\n",
    "# df[\"Calories\"].fillna(130, inplace = True) #Replace NULL values in the \"Calories\" columns with the number 130"
   ]
  },
  {
   "cell_type": "code",
   "execution_count": 206,
   "id": "162259b8",
   "metadata": {
    "scrolled": true
   },
   "outputs": [
    {
     "ename": "KeyError",
     "evalue": "'Calories'",
     "output_type": "error",
     "traceback": [
      "\u001b[1;31m---------------------------------------------------------------------------\u001b[0m",
      "\u001b[1;31mKeyError\u001b[0m                                  Traceback (most recent call last)",
      "\u001b[1;32m~\\anaconda3\\lib\\site-packages\\pandas\\core\\indexes\\base.py\u001b[0m in \u001b[0;36mget_loc\u001b[1;34m(self, key, method, tolerance)\u001b[0m\n\u001b[0;32m   3360\u001b[0m             \u001b[1;32mtry\u001b[0m\u001b[1;33m:\u001b[0m\u001b[1;33m\u001b[0m\u001b[1;33m\u001b[0m\u001b[0m\n\u001b[1;32m-> 3361\u001b[1;33m                 \u001b[1;32mreturn\u001b[0m \u001b[0mself\u001b[0m\u001b[1;33m.\u001b[0m\u001b[0m_engine\u001b[0m\u001b[1;33m.\u001b[0m\u001b[0mget_loc\u001b[0m\u001b[1;33m(\u001b[0m\u001b[0mcasted_key\u001b[0m\u001b[1;33m)\u001b[0m\u001b[1;33m\u001b[0m\u001b[1;33m\u001b[0m\u001b[0m\n\u001b[0m\u001b[0;32m   3362\u001b[0m             \u001b[1;32mexcept\u001b[0m \u001b[0mKeyError\u001b[0m \u001b[1;32mas\u001b[0m \u001b[0merr\u001b[0m\u001b[1;33m:\u001b[0m\u001b[1;33m\u001b[0m\u001b[1;33m\u001b[0m\u001b[0m\n",
      "\u001b[1;32m~\\anaconda3\\lib\\site-packages\\pandas\\_libs\\index.pyx\u001b[0m in \u001b[0;36mpandas._libs.index.IndexEngine.get_loc\u001b[1;34m()\u001b[0m\n",
      "\u001b[1;32m~\\anaconda3\\lib\\site-packages\\pandas\\_libs\\index.pyx\u001b[0m in \u001b[0;36mpandas._libs.index.IndexEngine.get_loc\u001b[1;34m()\u001b[0m\n",
      "\u001b[1;32mpandas\\_libs\\hashtable_class_helper.pxi\u001b[0m in \u001b[0;36mpandas._libs.hashtable.PyObjectHashTable.get_item\u001b[1;34m()\u001b[0m\n",
      "\u001b[1;32mpandas\\_libs\\hashtable_class_helper.pxi\u001b[0m in \u001b[0;36mpandas._libs.hashtable.PyObjectHashTable.get_item\u001b[1;34m()\u001b[0m\n",
      "\u001b[1;31mKeyError\u001b[0m: 'Calories'",
      "\nThe above exception was the direct cause of the following exception:\n",
      "\u001b[1;31mKeyError\u001b[0m                                  Traceback (most recent call last)",
      "\u001b[1;32m~\\AppData\\Local\\Temp/ipykernel_53304/3629441369.py\u001b[0m in \u001b[0;36m<module>\u001b[1;34m\u001b[0m\n\u001b[0;32m      1\u001b[0m \u001b[1;31m# Pandas uses the mean() median() and mode() methods to calculate NAN values\u001b[0m\u001b[1;33m\u001b[0m\u001b[1;33m\u001b[0m\u001b[0m\n\u001b[0;32m      2\u001b[0m \u001b[1;33m\u001b[0m\u001b[0m\n\u001b[1;32m----> 3\u001b[1;33m \u001b[0mx\u001b[0m \u001b[1;33m=\u001b[0m \u001b[0mdf\u001b[0m\u001b[1;33m[\u001b[0m\u001b[1;34m\"Calories\"\u001b[0m\u001b[1;33m]\u001b[0m\u001b[1;33m.\u001b[0m\u001b[0mmean\u001b[0m\u001b[1;33m(\u001b[0m\u001b[1;33m)\u001b[0m\u001b[1;33m\u001b[0m\u001b[1;33m\u001b[0m\u001b[0m\n\u001b[0m\u001b[0;32m      4\u001b[0m \u001b[1;33m\u001b[0m\u001b[0m\n\u001b[0;32m      5\u001b[0m \u001b[0mdf\u001b[0m\u001b[1;33m[\u001b[0m\u001b[1;34m\"Calories\"\u001b[0m\u001b[1;33m]\u001b[0m\u001b[1;33m.\u001b[0m\u001b[0mfillna\u001b[0m\u001b[1;33m(\u001b[0m\u001b[0mx\u001b[0m\u001b[1;33m,\u001b[0m \u001b[0minplace\u001b[0m \u001b[1;33m=\u001b[0m \u001b[1;32mTrue\u001b[0m\u001b[1;33m)\u001b[0m\u001b[1;33m\u001b[0m\u001b[1;33m\u001b[0m\u001b[0m\n",
      "\u001b[1;32m~\\anaconda3\\lib\\site-packages\\pandas\\core\\frame.py\u001b[0m in \u001b[0;36m__getitem__\u001b[1;34m(self, key)\u001b[0m\n\u001b[0;32m   3456\u001b[0m             \u001b[1;32mif\u001b[0m \u001b[0mself\u001b[0m\u001b[1;33m.\u001b[0m\u001b[0mcolumns\u001b[0m\u001b[1;33m.\u001b[0m\u001b[0mnlevels\u001b[0m \u001b[1;33m>\u001b[0m \u001b[1;36m1\u001b[0m\u001b[1;33m:\u001b[0m\u001b[1;33m\u001b[0m\u001b[1;33m\u001b[0m\u001b[0m\n\u001b[0;32m   3457\u001b[0m                 \u001b[1;32mreturn\u001b[0m \u001b[0mself\u001b[0m\u001b[1;33m.\u001b[0m\u001b[0m_getitem_multilevel\u001b[0m\u001b[1;33m(\u001b[0m\u001b[0mkey\u001b[0m\u001b[1;33m)\u001b[0m\u001b[1;33m\u001b[0m\u001b[1;33m\u001b[0m\u001b[0m\n\u001b[1;32m-> 3458\u001b[1;33m             \u001b[0mindexer\u001b[0m \u001b[1;33m=\u001b[0m \u001b[0mself\u001b[0m\u001b[1;33m.\u001b[0m\u001b[0mcolumns\u001b[0m\u001b[1;33m.\u001b[0m\u001b[0mget_loc\u001b[0m\u001b[1;33m(\u001b[0m\u001b[0mkey\u001b[0m\u001b[1;33m)\u001b[0m\u001b[1;33m\u001b[0m\u001b[1;33m\u001b[0m\u001b[0m\n\u001b[0m\u001b[0;32m   3459\u001b[0m             \u001b[1;32mif\u001b[0m \u001b[0mis_integer\u001b[0m\u001b[1;33m(\u001b[0m\u001b[0mindexer\u001b[0m\u001b[1;33m)\u001b[0m\u001b[1;33m:\u001b[0m\u001b[1;33m\u001b[0m\u001b[1;33m\u001b[0m\u001b[0m\n\u001b[0;32m   3460\u001b[0m                 \u001b[0mindexer\u001b[0m \u001b[1;33m=\u001b[0m \u001b[1;33m[\u001b[0m\u001b[0mindexer\u001b[0m\u001b[1;33m]\u001b[0m\u001b[1;33m\u001b[0m\u001b[1;33m\u001b[0m\u001b[0m\n",
      "\u001b[1;32m~\\anaconda3\\lib\\site-packages\\pandas\\core\\indexes\\base.py\u001b[0m in \u001b[0;36mget_loc\u001b[1;34m(self, key, method, tolerance)\u001b[0m\n\u001b[0;32m   3361\u001b[0m                 \u001b[1;32mreturn\u001b[0m \u001b[0mself\u001b[0m\u001b[1;33m.\u001b[0m\u001b[0m_engine\u001b[0m\u001b[1;33m.\u001b[0m\u001b[0mget_loc\u001b[0m\u001b[1;33m(\u001b[0m\u001b[0mcasted_key\u001b[0m\u001b[1;33m)\u001b[0m\u001b[1;33m\u001b[0m\u001b[1;33m\u001b[0m\u001b[0m\n\u001b[0;32m   3362\u001b[0m             \u001b[1;32mexcept\u001b[0m \u001b[0mKeyError\u001b[0m \u001b[1;32mas\u001b[0m \u001b[0merr\u001b[0m\u001b[1;33m:\u001b[0m\u001b[1;33m\u001b[0m\u001b[1;33m\u001b[0m\u001b[0m\n\u001b[1;32m-> 3363\u001b[1;33m                 \u001b[1;32mraise\u001b[0m \u001b[0mKeyError\u001b[0m\u001b[1;33m(\u001b[0m\u001b[0mkey\u001b[0m\u001b[1;33m)\u001b[0m \u001b[1;32mfrom\u001b[0m \u001b[0merr\u001b[0m\u001b[1;33m\u001b[0m\u001b[1;33m\u001b[0m\u001b[0m\n\u001b[0m\u001b[0;32m   3364\u001b[0m \u001b[1;33m\u001b[0m\u001b[0m\n\u001b[0;32m   3365\u001b[0m         \u001b[1;32mif\u001b[0m \u001b[0mis_scalar\u001b[0m\u001b[1;33m(\u001b[0m\u001b[0mkey\u001b[0m\u001b[1;33m)\u001b[0m \u001b[1;32mand\u001b[0m \u001b[0misna\u001b[0m\u001b[1;33m(\u001b[0m\u001b[0mkey\u001b[0m\u001b[1;33m)\u001b[0m \u001b[1;32mand\u001b[0m \u001b[1;32mnot\u001b[0m \u001b[0mself\u001b[0m\u001b[1;33m.\u001b[0m\u001b[0mhasnans\u001b[0m\u001b[1;33m:\u001b[0m\u001b[1;33m\u001b[0m\u001b[1;33m\u001b[0m\u001b[0m\n",
      "\u001b[1;31mKeyError\u001b[0m: 'Calories'"
     ]
    }
   ],
   "source": [
    "# Pandas uses the mean() median() and mode() methods to calculate NAN values\n",
    "\n",
    "x = df[\"Calories\"].mean()\n",
    "\n",
    "df[\"Calories\"].fillna(x, inplace = True)\n",
    "\n",
    "x = df[\"Calories\"].median()\n",
    "\n",
    "df[\"Calories\"].fillna(x, inplace = True)\n",
    "\n",
    "x = df[\"Calories\"].mode()[0]\n",
    "\n",
    "df[\"Calories\"].fillna(x, inplace = True)\n",
    "\n",
    "# Remove rows with a NULL value in the \"Date\" column:\n",
    "\n",
    "df.dropna(subset=['Date'], inplace = True)"
   ]
  },
  {
   "cell_type": "code",
   "execution_count": 209,
   "id": "eb89050d",
   "metadata": {},
   "outputs": [
    {
     "name": "stdout",
     "output_type": "stream",
     "text": [
      "0      False\n",
      "1      False\n",
      "2      False\n",
      "3      False\n",
      "4      False\n",
      "       ...  \n",
      "145    False\n",
      "146    False\n",
      "147    False\n",
      "148    False\n",
      "149    False\n",
      "Length: 150, dtype: bool\n"
     ]
    }
   ],
   "source": [
    "print(df.duplicated()) #show True for duplicate value"
   ]
  },
  {
   "cell_type": "code",
   "execution_count": 210,
   "id": "c3a98dd5",
   "metadata": {},
   "outputs": [],
   "source": [
    "df.drop_duplicates(inplace = True) # to remove duplicate values in data"
   ]
  },
  {
   "cell_type": "markdown",
   "id": "777b30f0",
   "metadata": {},
   "source": [
    "The corr() method calculates the relationship between each column in your data set.\n",
    "\n",
    "The .corr() method is used to find the pairwise correlation of all columns in a dataframe. \n",
    "\n",
    "It returns a correlation matrix containing the correlation coefficients between each pair of columns. \n",
    "\n",
    "The correlation coefficients range from -1 to 1. A coefficient of -1 indicates a perfect negative linear correlation, a coefficient of 0 indicates no linear correlation, and a coefficient of 1 indicates a perfect positive linear correlation."
   ]
  },
  {
   "cell_type": "code",
   "execution_count": 211,
   "id": "cb5fddd7",
   "metadata": {},
   "outputs": [
    {
     "data": {
      "text/html": [
       "<div>\n",
       "<style scoped>\n",
       "    .dataframe tbody tr th:only-of-type {\n",
       "        vertical-align: middle;\n",
       "    }\n",
       "\n",
       "    .dataframe tbody tr th {\n",
       "        vertical-align: top;\n",
       "    }\n",
       "\n",
       "    .dataframe thead th {\n",
       "        text-align: right;\n",
       "    }\n",
       "</style>\n",
       "<table border=\"1\" class=\"dataframe\">\n",
       "  <thead>\n",
       "    <tr style=\"text-align: right;\">\n",
       "      <th></th>\n",
       "      <th>Id</th>\n",
       "      <th>SepalLengthCm</th>\n",
       "      <th>SepalWidthCm</th>\n",
       "      <th>PetalLengthCm</th>\n",
       "      <th>PetalWidthCm</th>\n",
       "    </tr>\n",
       "  </thead>\n",
       "  <tbody>\n",
       "    <tr>\n",
       "      <th>Id</th>\n",
       "      <td>1.000000</td>\n",
       "      <td>0.716676</td>\n",
       "      <td>-0.397729</td>\n",
       "      <td>0.882747</td>\n",
       "      <td>0.899759</td>\n",
       "    </tr>\n",
       "    <tr>\n",
       "      <th>SepalLengthCm</th>\n",
       "      <td>0.716676</td>\n",
       "      <td>1.000000</td>\n",
       "      <td>-0.109369</td>\n",
       "      <td>0.871754</td>\n",
       "      <td>0.817954</td>\n",
       "    </tr>\n",
       "    <tr>\n",
       "      <th>SepalWidthCm</th>\n",
       "      <td>-0.397729</td>\n",
       "      <td>-0.109369</td>\n",
       "      <td>1.000000</td>\n",
       "      <td>-0.420516</td>\n",
       "      <td>-0.356544</td>\n",
       "    </tr>\n",
       "    <tr>\n",
       "      <th>PetalLengthCm</th>\n",
       "      <td>0.882747</td>\n",
       "      <td>0.871754</td>\n",
       "      <td>-0.420516</td>\n",
       "      <td>1.000000</td>\n",
       "      <td>0.962757</td>\n",
       "    </tr>\n",
       "    <tr>\n",
       "      <th>PetalWidthCm</th>\n",
       "      <td>0.899759</td>\n",
       "      <td>0.817954</td>\n",
       "      <td>-0.356544</td>\n",
       "      <td>0.962757</td>\n",
       "      <td>1.000000</td>\n",
       "    </tr>\n",
       "  </tbody>\n",
       "</table>\n",
       "</div>"
      ],
      "text/plain": [
       "                     Id  SepalLengthCm  SepalWidthCm  PetalLengthCm  \\\n",
       "Id             1.000000       0.716676     -0.397729       0.882747   \n",
       "SepalLengthCm  0.716676       1.000000     -0.109369       0.871754   \n",
       "SepalWidthCm  -0.397729      -0.109369      1.000000      -0.420516   \n",
       "PetalLengthCm  0.882747       0.871754     -0.420516       1.000000   \n",
       "PetalWidthCm   0.899759       0.817954     -0.356544       0.962757   \n",
       "\n",
       "               PetalWidthCm  \n",
       "Id                 0.899759  \n",
       "SepalLengthCm      0.817954  \n",
       "SepalWidthCm      -0.356544  \n",
       "PetalLengthCm      0.962757  \n",
       "PetalWidthCm       1.000000  "
      ]
     },
     "execution_count": 211,
     "metadata": {},
     "output_type": "execute_result"
    }
   ],
   "source": [
    "df.corr()"
   ]
  },
  {
   "cell_type": "markdown",
   "id": "c9ba7d53",
   "metadata": {},
   "source": [
    "Pandas uses the plot() method to create diagrams."
   ]
  },
  {
   "cell_type": "code",
   "execution_count": 212,
   "id": "2940ecc7",
   "metadata": {},
   "outputs": [
    {
     "data": {
      "image/png": "[encoded data removed]",
      "text/plain": [
       "<Figure size 432x288 with 1 Axes>"
      ]
     },
     "metadata": {
      "needs_background": "light"
     },
     "output_type": "display_data"
    }
   ],
   "source": [
    "import pandas as pd\n",
    "import matplotlib.pyplot as plt\n",
    "\n",
    "df = pd.read_csv('iris.csv')\n",
    "\n",
    "df.plot()\n",
    "\n",
    "plt.show()"
   ]
  },
  {
   "cell_type": "code",
   "execution_count": 214,
   "id": "0f876b4e",
   "metadata": {},
   "outputs": [
    {
     "data": {
      "image/png": "[encoded data removed]",
      "text/plain": [
       "<Figure size 432x288 with 1 Axes>"
      ]
     },
     "metadata": {
      "needs_background": "light"
     },
     "output_type": "display_data"
    }
   ],
   "source": [
    "df.plot(kind = 'scatter', x = 'SepalLengthCm', y = 'PetalLengthCm')\n",
    "\n",
    "plt.show()"
   ]
  },
  {
   "cell_type": "code",
   "execution_count": 216,
   "id": "edfe60dd",
   "metadata": {},
   "outputs": [
    {
     "data": {
      "image/png": "[encoded data removed]",
      "text/plain": [
       "<Figure size 432x288 with 1 Axes>"
      ]
     },
     "metadata": {
      "needs_background": "light"
     },
     "output_type": "display_data"
    }
   ],
   "source": [
    "df.plot(kind = 'scatter', x = 'SepalLengthCm', y = 'SepalWidthCm')\n",
    "\n",
    "plt.show()"
   ]
  },
  {
   "cell_type": "code",
   "execution_count": 217,
   "id": "92cf1a6d",
   "metadata": {},
   "outputs": [
    {
     "data": {
      "text/plain": [
       "<AxesSubplot:ylabel='Frequency'>"
      ]
     },
     "execution_count": 217,
     "metadata": {},
     "output_type": "execute_result"
    },
    {
     "data": {
      "image/png": "[encoded data removed]",
      "text/plain": [
       "<Figure size 432x288 with 1 Axes>"
      ]
     },
     "metadata": {
      "needs_background": "light"
     },
     "output_type": "display_data"
    }
   ],
   "source": [
    "df[\"SepalLengthCm\"].plot(kind = 'hist')"
   ]
  },
  {
   "cell_type": "code",
   "execution_count": 218,
   "id": "3413b600",
   "metadata": {},
   "outputs": [
    {
     "data": {
      "text/plain": [
       "<AxesSubplot:ylabel='Frequency'>"
      ]
     },
     "execution_count": 218,
     "metadata": {},
     "output_type": "execute_result"
    },
    {
     "data": {
      "image/png": "[encoded data removed]",
      "text/plain": [
       "<Figure size 432x288 with 1 Axes>"
      ]
     },
     "metadata": {
      "needs_background": "light"
     },
     "output_type": "display_data"
    }
   ],
   "source": [
    "df[\"PetalWidthCm\"].plot(kind = 'hist')"
   ]
  },
  {
   "cell_type": "code",
   "execution_count": null,
   "id": "75f3bd74",
   "metadata": {},
   "outputs": [],
   "source": []
  }
 ],
 "metadata": {
  "kernelspec": {
   "display_name": "Python 3 (ipykernel)",
   "language": "python",
   "name": "python3"
  },
  "language_info": {
   "codemirror_mode": {
    "name": "ipython",
    "version": 3
   },
   "file_extension": ".py",
   "mimetype": "text/x-python",
   "name": "python",
   "nbconvert_exporter": "python",
   "pygments_lexer": "ipython3",
   "version": "3.9.7"
  }
 },
 "nbformat": 4,
 "nbformat_minor": 5
}
