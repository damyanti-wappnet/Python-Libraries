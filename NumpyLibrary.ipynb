{
 "cells": [
  {
   "cell_type": "markdown",
   "id": "19140bd2",
   "metadata": {},
   "source": [
    "numpy was created in 2005 by Travis Oliphant\n",
    "Numpy stands for numerical Python\n",
    "\n",
    "numpy is python library and written partially in python but most of the parts that requires fast computations are written in C and C++\n",
    "\n",
    "\n",
    "Numpy is faster than lists \n",
    "\n"
   ]
  },
  {
   "cell_type": "code",
   "execution_count": null,
   "id": "a55ba5b5",
   "metadata": {},
   "outputs": [],
   "source": [
    "import numpy as np"
   ]
  },
  {
   "cell_type": "code",
   "execution_count": 4,
   "id": "e959d587",
   "metadata": {},
   "outputs": [
    {
     "name": "stdout",
     "output_type": "stream",
     "text": [
      "[12 23  4  5]\n"
     ]
    }
   ],
   "source": [
    "a = np.array([12,23,4,5])\n",
    "print(a)"
   ]
  },
  {
   "cell_type": "code",
   "execution_count": 9,
   "id": "4b7d6930",
   "metadata": {},
   "outputs": [
    {
     "name": "stdout",
     "output_type": "stream",
     "text": [
      "1.20.3\n"
     ]
    }
   ],
   "source": [
    "#check the version of python\n",
    "\n",
    "print(np.__version__)"
   ]
  },
  {
   "cell_type": "code",
   "execution_count": 10,
   "id": "560ee898",
   "metadata": {},
   "outputs": [
    {
     "name": "stdout",
     "output_type": "stream",
     "text": [
      "[1 2 3 4 5]\n",
      "<class 'numpy.ndarray'>\n"
     ]
    }
   ],
   "source": [
    "#numpy is use to work with arrays in python\n",
    "#The array object of numpy is called ndarray\n",
    "\n",
    "import numpy as np\n",
    "a = np.array([1,2,3,4,5])\n",
    "print(a)\n",
    "print(type(a)) ##type() is used to know the datatype of varible"
   ]
  },
  {
   "cell_type": "code",
   "execution_count": 11,
   "id": "30ad453e",
   "metadata": {},
   "outputs": [
    {
     "name": "stdout",
     "output_type": "stream",
     "text": [
      "[21]\n"
     ]
    }
   ],
   "source": [
    "## Dimentions in arrays\n",
    "# 0- Dimention array\n",
    "\n",
    "import numpy as np\n",
    "a1 = np.array([21])\n",
    "print(a1)"
   ]
  },
  {
   "cell_type": "code",
   "execution_count": 12,
   "id": "2b4d7c73",
   "metadata": {},
   "outputs": [
    {
     "name": "stdout",
     "output_type": "stream",
     "text": [
      "[ 12   3   3 455  24  54]\n"
     ]
    }
   ],
   "source": [
    "#One Dimentional array\n",
    "\n",
    "a2 = np.array([12,3,3,455,24,54])  # One dimentional array\n",
    "\n",
    "print(a2)"
   ]
  },
  {
   "cell_type": "code",
   "execution_count": 13,
   "id": "0607c9f8",
   "metadata": {},
   "outputs": [
    {
     "name": "stdout",
     "output_type": "stream",
     "text": [
      "[[10 20 30]\n",
      " [50 60 70]]\n"
     ]
    }
   ],
   "source": [
    "a3 = np.array([\n",
    "    [10,20,30],\n",
    "    [50,60,70]\n",
    "])\n",
    "print(a3)\n",
    "\n",
    "# array that has 1- dimentional array as its elements is called a 2- Dimentional array"
   ]
  },
  {
   "cell_type": "code",
   "execution_count": 24,
   "id": "2082facc",
   "metadata": {},
   "outputs": [
    {
     "name": "stdout",
     "output_type": "stream",
     "text": [
      "[[[11 22 33]\n",
      "  [44  5 56]]\n",
      "\n",
      " [[67 89 90]\n",
      "  [34 67 10]]]\n",
      "3\n"
     ]
    }
   ],
   "source": [
    "a4 = np.array([\n",
    "    [\n",
    "        [11,22,33],\n",
    "        [44,5,56]\n",
    "    ],\n",
    "    [\n",
    "        [67,89,90],\n",
    "        [34,67,10]\n",
    "    ]\n",
    "])\n",
    "\n",
    "print(a4)\n",
    "print(a4.ndim)"
   ]
  },
  {
   "cell_type": "code",
   "execution_count": 18,
   "id": "c23a4b5c",
   "metadata": {},
   "outputs": [
    {
     "name": "stdout",
     "output_type": "stream",
     "text": [
      "1\n",
      "1\n",
      "2\n",
      "3\n"
     ]
    }
   ],
   "source": [
    "# how tomknow the dimention of an array..??\n",
    "print(a1.ndim)\n",
    "print(a2.ndim)\n",
    "print(a3.ndim)\n",
    "print(a4.ndim)"
   ]
  },
  {
   "cell_type": "code",
   "execution_count": 23,
   "id": "3dfce180",
   "metadata": {},
   "outputs": [
    {
     "data": {
      "text/plain": [
       "3"
      ]
     },
     "execution_count": 23,
     "metadata": {},
     "output_type": "execute_result"
    }
   ],
   "source": [
    "# 1-Dimentional\n",
    "arr1 = np.array([1,2,3,4])\n",
    "\n",
    "#2- Dimentional \n",
    "arr2 = np.array([\n",
    "    [1,2,3,4],\n",
    "    [2,3,4,5]\n",
    "])\n",
    "\n",
    "# 3 dimentional\n",
    "\n",
    "arr3 = np.array([\n",
    "    [\n",
    "        [30,31,32],\n",
    "        [41,42,43]\n",
    "    ],\n",
    "    [\n",
    "        [51,52,53],\n",
    "        [61,62,63]\n",
    "    ]\n",
    "])\n",
    "\n",
    "arr1\n",
    "arr2\n",
    "arr3.ndim"
   ]
  },
  {
   "cell_type": "code",
   "execution_count": 30,
   "id": "314eeed7",
   "metadata": {},
   "outputs": [
    {
     "name": "stdout",
     "output_type": "stream",
     "text": [
      "[[[[ 1  2  4  5]\n",
      "   [ 2 35  6  7]]\n",
      "\n",
      "  [[ 8  7  9  5]\n",
      "   [10 20 30 40]]]]\n",
      "4\n"
     ]
    }
   ],
   "source": [
    "# 4 -dimention\n",
    "arr4 = np.array([\n",
    "    [\n",
    "       [\n",
    "           [1,2,4,5],\n",
    "           [2,35,6,7]\n",
    "       ],\n",
    "        [\n",
    "            [8,7,9,5],\n",
    "            [10,20,30,40] \n",
    "        ]\n",
    "        \n",
    "    ]\n",
    "])\n",
    "print(arr4)\n",
    "print(arr4.ndim)"
   ]
  },
  {
   "cell_type": "code",
   "execution_count": 33,
   "id": "8f24a5ec",
   "metadata": {},
   "outputs": [
    {
     "name": "stdout",
     "output_type": "stream",
     "text": [
      "[[[[[1 2 3 4 5]]]]]\n",
      "5\n"
     ]
    }
   ],
   "source": [
    "# we can define dimensions by using the ndmin argument\n",
    "arr = np.array([1,2,3,4,5], ndmin=5)\n",
    "print(arr)\n",
    "print(arr.ndim)"
   ]
  },
  {
   "cell_type": "code",
   "execution_count": 39,
   "id": "857d572a",
   "metadata": {},
   "outputs": [
    {
     "name": "stdout",
     "output_type": "stream",
     "text": [
      "4\n",
      "29\n"
     ]
    }
   ],
   "source": [
    "# accessing array elemrnts\n",
    "# we can access arrays using their index number \n",
    "num1 = np.array([12,23,4,5,6])\n",
    "print(num1[2])\n",
    "\n",
    "print(num1[1] + num1[4])"
   ]
  },
  {
   "cell_type": "code",
   "execution_count": 41,
   "id": "f093f572",
   "metadata": {},
   "outputs": [
    {
     "name": "stdout",
     "output_type": "stream",
     "text": [
      "50\n"
     ]
    }
   ],
   "source": [
    "# To access elements from 2D arrays we can use comma separated integers representing the dimension and the index of the elements\n",
    "arr = np.array([\n",
    "   \n",
    "    [10,20,30],\n",
    "    [40,50,60]\n",
    "    \n",
    "])\n",
    "\n",
    "print(arr[1,1])"
   ]
  },
  {
   "cell_type": "code",
   "execution_count": 50,
   "id": "992cd25c",
   "metadata": {},
   "outputs": [
    {
     "name": "stdout",
     "output_type": "stream",
     "text": [
      "30\n"
     ]
    }
   ],
   "source": [
    "arr4 = np.array([\n",
    "    [\n",
    "       [\n",
    "           [1,2,4,5],\n",
    "           [2,35,6,7]\n",
    "       ],\n",
    "        [\n",
    "            [8,7,9,5],\n",
    "            [10,20,30,40] \n",
    "        ]\n",
    "        \n",
    "    ]\n",
    "])\n",
    "\n",
    "print(arr4[0,1,1,2])# for 4 - Dimension"
   ]
  },
  {
   "cell_type": "code",
   "execution_count": 54,
   "id": "be7f5501",
   "metadata": {},
   "outputs": [
    {
     "name": "stdout",
     "output_type": "stream",
     "text": [
      "[[0 1 2 3 4]\n",
      " [5 6 7 7 8]]\n",
      "2\n",
      "Negative Indexing...\n",
      "5\n",
      "2\n"
     ]
    }
   ],
   "source": [
    "# Negative indexing...\n",
    "arr = np.array([\n",
    "    [0,1,2,3,4],\n",
    "    [5,6,7,7,8]\n",
    "])\n",
    "print(arr)\n",
    "print(arr.ndim)\n",
    "\n",
    "print(\"Negative Indexing...\")\n",
    "print(arr[1,-5])\n",
    "print(arr[0,-3])"
   ]
  },
  {
   "cell_type": "code",
   "execution_count": 67,
   "id": "d1af7dec",
   "metadata": {},
   "outputs": [
    {
     "name": "stdout",
     "output_type": "stream",
     "text": [
      "[12  4  6]\n"
     ]
    }
   ],
   "source": [
    "# Numpy array Slicing...\n",
    "# index[statr:end]\n",
    "\n",
    "arr = np.array([12,3,4,5,6,8])\n",
    "# print(arr)\n",
    "\n",
    "# print(arr[1:3]) # doesn't include last element of index\n",
    "\n",
    "# print(arr[:4])\n",
    "# print(arr[1:])\n",
    "print(arr[0::2])\n",
    "\n",
    "# print(arr[:])\n",
    "# reverse the arr\n",
    "# print(arr[: :-1])"
   ]
  },
  {
   "cell_type": "code",
   "execution_count": 71,
   "id": "dfd9ae12",
   "metadata": {},
   "outputs": [
    {
     "name": "stdout",
     "output_type": "stream",
     "text": [
      "[4 6]\n"
     ]
    }
   ],
   "source": [
    "# Slicing 2D arrays...\n",
    "\n",
    "arr = np.array([\n",
    "    [1,2,3,4,5],\n",
    "    [3,4,5,6,7]\n",
    "])\n",
    "\n",
    "# print(arr[1,0:2])\n",
    "print(arr[0:2,3])"
   ]
  },
  {
   "cell_type": "code",
   "execution_count": 75,
   "id": "3014221d",
   "metadata": {},
   "outputs": [
    {
     "name": "stdout",
     "output_type": "stream",
     "text": [
      "[9 8 7]\n",
      "[5 6 7 8 9 0]\n"
     ]
    }
   ],
   "source": [
    "# negative slicing\n",
    "\n",
    "arr = np.array([0,9,8,7,6,5])\n",
    "print(arr[-5: -2])\n",
    "print(arr[: :-1])"
   ]
  },
  {
   "cell_type": "code",
   "execution_count": 85,
   "id": "54bad6e7",
   "metadata": {},
   "outputs": [
    {
     "name": "stdout",
     "output_type": "stream",
     "text": [
      "[[1 2 3 4]\n",
      " [6 7 7 8]]\n"
     ]
    }
   ],
   "source": [
    "arr = np.array([\n",
    "    [0,1,2,3,4],\n",
    "    [5,6,7,7,8]\n",
    "])\n",
    "# print(arr)\n",
    "\n",
    "print(arr[0:2,1:5])"
   ]
  },
  {
   "cell_type": "code",
   "execution_count": 86,
   "id": "b28191e5",
   "metadata": {},
   "outputs": [
    {
     "name": "stdout",
     "output_type": "stream",
     "text": [
      "int32\n"
     ]
    }
   ],
   "source": [
    "# Data types in numpy array\n",
    "arr = np.array([\n",
    "    [0,1,2,3,4],\n",
    "    [5,6,7,7,8]\n",
    "])\n",
    "print(arr.dtype)"
   ]
  },
  {
   "cell_type": "code",
   "execution_count": 87,
   "id": "161dbf0b",
   "metadata": {},
   "outputs": [
    {
     "name": "stdout",
     "output_type": "stream",
     "text": [
      "<U6\n"
     ]
    }
   ],
   "source": [
    "arr = np.array(['apple','banana','cake'])\n",
    "print(arr.dtype)"
   ]
  },
  {
   "cell_type": "code",
   "execution_count": 104,
   "id": "7f0054af",
   "metadata": {},
   "outputs": [
    {
     "data": {
      "text/plain": [
       "dtype('<U1')"
      ]
     },
     "execution_count": 104,
     "metadata": {},
     "output_type": "execute_result"
    }
   ],
   "source": [
    "arr = np.array([1,2,3,4],dtype='U')\n",
    "arr.dtype"
   ]
  },
  {
   "cell_type": "code",
   "execution_count": 105,
   "id": "9f552582",
   "metadata": {},
   "outputs": [
    {
     "name": "stdout",
     "output_type": "stream",
     "text": [
      "[0. 1. 2. 3. 4.]\n",
      "float32\n"
     ]
    }
   ],
   "source": [
    "# change the existing array datatype from one type to another type\n",
    "  \n",
    "arr = np.array([0,1,2,3,4])\n",
    "newarr = arr.astype('f')\n",
    "print(newarr)\n",
    "print(newarr.dtype)"
   ]
  },
  {
   "cell_type": "code",
   "execution_count": 106,
   "id": "cd555f41",
   "metadata": {},
   "outputs": [
    {
     "name": "stdout",
     "output_type": "stream",
     "text": [
      "[ 3 44  3]\n",
      "int32\n"
     ]
    }
   ],
   "source": [
    "arr = np.array([3.4,44.9,3.7])\n",
    "newarr = arr.astype('i')\n",
    "print(newarr)\n",
    "print(newarr.dtype)"
   ]
  },
  {
   "cell_type": "code",
   "execution_count": 111,
   "id": "3d83030d",
   "metadata": {},
   "outputs": [
    {
     "name": "stdout",
     "output_type": "stream",
     "text": [
      "[42  2  4  5  6]\n",
      "[1 2 4 5 6]\n"
     ]
    }
   ],
   "source": [
    "# copy and view\n",
    "\n",
    "\n",
    "# copy is a new array and view is just a view of the original\n",
    "\n",
    "# make a copy\n",
    "arr = np.array([1,2,4,5,6])\n",
    "x = arr.copy()\n",
    "arr[0]= 42\n",
    "\n",
    "print(arr)\n",
    "print(x)"
   ]
  },
  {
   "cell_type": "code",
   "execution_count": 114,
   "id": "0ab421b0",
   "metadata": {},
   "outputs": [
    {
     "name": "stdout",
     "output_type": "stream",
     "text": [
      "[42  2  4  8  6]\n",
      "[42  2  4  8  6]\n"
     ]
    }
   ],
   "source": [
    "# make a view\n",
    "\n",
    "arr = np.array([1,2,4,5,6])\n",
    "x = arr.view()\n",
    "arr[0]= 42\n",
    "x[3] = 8\n",
    "\n",
    "print(arr)\n",
    "print(x)"
   ]
  },
  {
   "cell_type": "code",
   "execution_count": 119,
   "id": "419668d1",
   "metadata": {},
   "outputs": [
    {
     "name": "stdout",
     "output_type": "stream",
     "text": [
      "None\n",
      "[ 1  2  4  3 45  6]\n"
     ]
    }
   ],
   "source": [
    "# copies owns the data and views does not oown the data \n",
    "# we can check it by base attribute that returns None if the array owns the data\n",
    "\n",
    "arr = np.array([1,2,4,3,45,6])\n",
    "\n",
    "x = arr.copy()\n",
    "y = arr.view()\n",
    "\n",
    "print(x.base)\n",
    "print(y.base)"
   ]
  },
  {
   "cell_type": "code",
   "execution_count": 128,
   "id": "acd712fa",
   "metadata": {},
   "outputs": [
    {
     "name": "stdout",
     "output_type": "stream",
     "text": [
      "(2, 4)\n"
     ]
    }
   ],
   "source": [
    "# check the shape of an array\n",
    "arr = np.array([\n",
    "    [1,2,3,44],\n",
    "    [35,67,37,5]\n",
    "])\n",
    "print(arr.shape)"
   ]
  },
  {
   "cell_type": "code",
   "execution_count": 129,
   "id": "ed119ad8",
   "metadata": {},
   "outputs": [
    {
     "name": "stdout",
     "output_type": "stream",
     "text": [
      "[[ 1  2  3 44]\n",
      " [35 67 37  5]]\n"
     ]
    }
   ],
   "source": [
    "# array reshaping\n",
    "arr = np.array([\n",
    "    [1,2,3,44],\n",
    "    [35,67,37,5]\n",
    "])\n",
    "\n",
    "newarr = arr.reshape(4,2)\n",
    "print(newarr.base)"
   ]
  },
  {
   "cell_type": "code",
   "execution_count": 132,
   "id": "e6192f5b",
   "metadata": {},
   "outputs": [
    {
     "name": "stdout",
     "output_type": "stream",
     "text": [
      "1\n",
      "2\n",
      "3\n",
      "4\n",
      "5\n"
     ]
    }
   ],
   "source": [
    "# itterating array\n",
    "arr = np.array([1,2,3,4,5])\n",
    "for x in arr:\n",
    "    print(x)"
   ]
  },
  {
   "cell_type": "code",
   "execution_count": 140,
   "id": "a0687966",
   "metadata": {},
   "outputs": [
    {
     "name": "stdout",
     "output_type": "stream",
     "text": [
      "1\n",
      "2\n",
      "3\n",
      "44\n",
      "35\n",
      "67\n",
      "37\n",
      "5\n"
     ]
    }
   ],
   "source": [
    "arr = np.array([\n",
    "    [1,2,3,44],\n",
    "    [35,67,37,5]\n",
    "])\n",
    "\n",
    "for x in arr:\n",
    "    for y in  x:\n",
    "        print(y)\n"
   ]
  },
  {
   "cell_type": "code",
   "execution_count": 141,
   "id": "9534d079",
   "metadata": {},
   "outputs": [
    {
     "name": "stdout",
     "output_type": "stream",
     "text": [
      "1\n",
      "2\n",
      "3\n",
      "4\n",
      "5\n",
      "6\n",
      "7\n",
      "8\n"
     ]
    }
   ],
   "source": [
    "arr = np.array([\n",
    "    [\n",
    "        [1,2],\n",
    "        [3,4]\n",
    "    ],\n",
    "    [\n",
    "        [5,6],\n",
    "        [7,8]\n",
    "    ]\n",
    "])\n",
    "\n",
    "for x in np.nditer(arr):\n",
    "    print(x)"
   ]
  },
  {
   "cell_type": "code",
   "execution_count": 145,
   "id": "bdbddbbe",
   "metadata": {},
   "outputs": [
    {
     "name": "stdout",
     "output_type": "stream",
     "text": [
      "1\n",
      "2\n",
      "3\n",
      "7\n",
      "8\n",
      "9\n"
     ]
    }
   ],
   "source": [
    "import numpy as np\n",
    "\n",
    "arr = np.array([[[1, 2, 3], [4, 5, 6]], [[7, 8, 9], [10, 11, 12]]])\n",
    "\n",
    "# for x in arr:\n",
    "#   print(x)\n",
    "\n",
    "for x in np.nditer(arr[:,::2]):\n",
    "    print(x)"
   ]
  },
  {
   "cell_type": "code",
   "execution_count": 151,
   "id": "680d4fc6",
   "metadata": {},
   "outputs": [
    {
     "name": "stdout",
     "output_type": "stream",
     "text": [
      "[1 2 3 4 5 6 7 8]\n"
     ]
    }
   ],
   "source": [
    "# join two arrays\n",
    "\n",
    "arr = np.array([1,2,3,4])\n",
    "arr1 = np.array([5,6,7,8])\n",
    "\n",
    "arr2 = np.concatenate((arr,arr1))\n",
    "print(arr2)"
   ]
  },
  {
   "cell_type": "code",
   "execution_count": 161,
   "id": "6ee8ff23",
   "metadata": {},
   "outputs": [
    {
     "name": "stdout",
     "output_type": "stream",
     "text": [
      "[[1 2 3 4]\n",
      " [5 6 7 8]]\n"
     ]
    }
   ],
   "source": [
    "# join two arrays\n",
    "\n",
    "arr = np.array([1,2,3,4])\n",
    "arr1 = np.array([5,6,7,8])\n",
    "\n",
    "arr2 = np.stack((arr,arr1))\n",
    "print(arr2)"
   ]
  },
  {
   "cell_type": "code",
   "execution_count": 155,
   "id": "ba198fd4",
   "metadata": {},
   "outputs": [
    {
     "name": "stdout",
     "output_type": "stream",
     "text": [
      "[1 2 3 4 5 6 7 8]\n"
     ]
    }
   ],
   "source": [
    "# join two arrays\n",
    "\n",
    "arr = np.array([1,2,3,4])\n",
    "arr1 = np.array([5,6,7,8])\n",
    "\n",
    "arr2 = np.hstack((arr,arr1))\n",
    "print(arr2)"
   ]
  },
  {
   "cell_type": "code",
   "execution_count": 157,
   "id": "3178b914",
   "metadata": {},
   "outputs": [
    {
     "name": "stdout",
     "output_type": "stream",
     "text": [
      "[[1 2 3 4]\n",
      " [5 6 7 8]]\n"
     ]
    }
   ],
   "source": [
    "# join two arrays\n",
    "\n",
    "arr = np.array([1,2,3,4])\n",
    "arr1 = np.array([5,6,7,8])\n",
    "\n",
    "arr2 = np.vstack((arr,arr1))\n",
    "print(arr2)"
   ]
  },
  {
   "cell_type": "code",
   "execution_count": 164,
   "id": "81d7295d",
   "metadata": {},
   "outputs": [
    {
     "name": "stdout",
     "output_type": "stream",
     "text": [
      "[[[1 5]\n",
      "  [2 6]\n",
      "  [3 7]\n",
      "  [4 8]]]\n"
     ]
    }
   ],
   "source": [
    "# join two arrays\n",
    "\n",
    "arr = np.array([1,2,3,4])\n",
    "arr1 = np.array([5,6,7,8])\n",
    "\n",
    "arr2 = np.dstack((arr,arr1))\n",
    "print(arr2)"
   ]
  },
  {
   "cell_type": "code",
   "execution_count": 167,
   "id": "00117bfd",
   "metadata": {},
   "outputs": [
    {
     "name": "stdout",
     "output_type": "stream",
     "text": [
      "[array([1, 2]), array([3, 4]), array([5]), array([6])]\n"
     ]
    }
   ],
   "source": [
    "# splitting array\n",
    "import numpy as np\n",
    "\n",
    "arr = np.array([1, 2, 3, 4, 5, 6])\n",
    "\n",
    "newarr = np.array_split(arr, 4)\n",
    "\n",
    "print(newarr)\n"
   ]
  },
  {
   "cell_type": "code",
   "execution_count": 169,
   "id": "9fea1769",
   "metadata": {},
   "outputs": [
    {
     "name": "stdout",
     "output_type": "stream",
     "text": [
      "[array([[1, 2, 3],\n",
      "       [4, 5, 6]]), array([[ 7,  8,  9],\n",
      "       [10, 11, 12]]), array([[13, 14, 15],\n",
      "       [16, 17, 18]])]\n"
     ]
    }
   ],
   "source": [
    "import numpy as np\n",
    "\n",
    "arr = np.array([[1, 2, 3], [4, 5, 6], [7, 8, 9], [10, 11, 12], [13, 14, 15], [16, 17, 18]])\n",
    "\n",
    "newarr = np.vsplit(arr, 3)\n",
    "\n",
    "print(newarr)"
   ]
  },
  {
   "cell_type": "code",
   "execution_count": 180,
   "id": "192f2ed7",
   "metadata": {},
   "outputs": [
    {
     "name": "stdout",
     "output_type": "stream",
     "text": [
      "97\n"
     ]
    }
   ],
   "source": [
    "# Random numers\n",
    "from numpy import random\n",
    "x = random.randint(100) # print random integer numbers from 1 to 100\n",
    "print(x)"
   ]
  },
  {
   "cell_type": "code",
   "execution_count": 188,
   "id": "4d9b66a5",
   "metadata": {},
   "outputs": [
    {
     "name": "stdout",
     "output_type": "stream",
     "text": [
      "0.7991810456181806\n"
     ]
    }
   ],
   "source": [
    "from numpy import random\n",
    "x = random.rand() # rand() prints random numbers between 0 and 1\n",
    "print(x)"
   ]
  },
  {
   "cell_type": "code",
   "execution_count": 189,
   "id": "c1a5b48b",
   "metadata": {},
   "outputs": [
    {
     "name": "stdout",
     "output_type": "stream",
     "text": [
      "[[57 28 31 84]\n",
      " [83 65 53  3]\n",
      " [99 37 26 60]]\n"
     ]
    }
   ],
   "source": [
    "arr = random.randint(100, size=(3,4))  #size takes array size\n",
    "print(arr)"
   ]
  },
  {
   "cell_type": "code",
   "execution_count": 192,
   "id": "5df451b2",
   "metadata": {},
   "outputs": [
    {
     "name": "stdout",
     "output_type": "stream",
     "text": [
      "[[0.55338592 0.46596962 0.61493365 0.10916123 0.64392127]\n",
      " [0.40009047 0.19045036 0.32611635 0.63320337 0.88253294]\n",
      " [0.09715162 0.84011879 0.77314691 0.69761805 0.04740388]]\n"
     ]
    }
   ],
   "source": [
    "arrF = random.rand(3,5)\n",
    "print(arrF)"
   ]
  },
  {
   "cell_type": "code",
   "execution_count": 206,
   "id": "c40b6112",
   "metadata": {},
   "outputs": [
    {
     "name": "stdout",
     "output_type": "stream",
     "text": [
      "8\n"
     ]
    }
   ],
   "source": [
    "arr = random.choice([11,2,3,4,5,6,7,8]) #print random number from the array\n",
    "print(arr)"
   ]
  },
  {
   "cell_type": "code",
   "execution_count": 207,
   "id": "ae2e143b",
   "metadata": {},
   "outputs": [
    {
     "name": "stdout",
     "output_type": "stream",
     "text": [
      "[[45 23 45]\n",
      " [34 45 23]]\n"
     ]
    }
   ],
   "source": [
    "arr = random.choice([23,34,45,56,67],size=(2,3))\n",
    "print(arr)"
   ]
  },
  {
   "cell_type": "code",
   "execution_count": 219,
   "id": "76a66f25",
   "metadata": {},
   "outputs": [
    {
     "name": "stdout",
     "output_type": "stream",
     "text": [
      "[7 5 7 5 5]\n"
     ]
    }
   ],
   "source": [
    "from numpy import random\n",
    "\n",
    "x = random.choice([3, 5, 7, 9], p=[0.1, 0.3, 0.6, 0.0], size=(5))\n",
    "\n",
    "print(x)\n"
   ]
  },
  {
   "cell_type": "code",
   "execution_count": 263,
   "id": "86a6414d",
   "metadata": {},
   "outputs": [
    {
     "name": "stdout",
     "output_type": "stream",
     "text": [
      "[ 2  3 44  6]\n"
     ]
    }
   ],
   "source": [
    "from numpy import random\n",
    "arr = np.array([2,3,44,6])\n",
    "random.shuffle(arr) # change the arrangments of numbers\n",
    "print(arr)"
   ]
  },
  {
   "cell_type": "code",
   "execution_count": 252,
   "id": "9734d303",
   "metadata": {},
   "outputs": [
    {
     "data": {
      "text/plain": [
       "array([67,  6,  2, 44,  3])"
      ]
     },
     "execution_count": 252,
     "metadata": {},
     "output_type": "execute_result"
    }
   ],
   "source": [
    "from numpy import random\n",
    "arr = np.array([2,3,44,6, 67])\n",
    "random.permutation(arr) # change the arrangments of numbers\n",
    "# print(arr) KEEP ORIGINAL ARRAY AS IT IS..."
   ]
  },
  {
   "cell_type": "markdown",
   "id": "48885059",
   "metadata": {},
   "source": [
    "seaborn module\n"
   ]
  },
  {
   "cell_type": "code",
   "execution_count": 276,
   "id": "6653812a",
   "metadata": {},
   "outputs": [
    {
     "name": "stderr",
     "output_type": "stream",
     "text": [
      "C:\\Users\\91951\\anaconda3\\lib\\site-packages\\seaborn\\distributions.py:2619: FutureWarning: `distplot` is a deprecated function and will be removed in a future version. Please adapt your code to use either `displot` (a figure-level function with similar flexibility) or `histplot` (an axes-level function for histograms).\n",
      "  warnings.warn(msg, FutureWarning)\n"
     ]
    },
    {
     "data": {
      "image/png": "[encoded data removed]",
      "text/plain": [
       "<Figure size 432x288 with 1 Axes>"
      ]
     },
     "metadata": {
      "needs_background": "light"
     },
     "output_type": "display_data"
    }
   ],
   "source": [
    "import seaborn as sns\n",
    "import matplotlib.pyplot as plt\n",
    "sns.distplot([12,3,5],hist = True)\n",
    "plt.show()"
   ]
  },
  {
   "cell_type": "code",
   "execution_count": 283,
   "id": "56fc81b7",
   "metadata": {},
   "outputs": [
    {
     "name": "stdout",
     "output_type": "stream",
     "text": [
      "[[-1.29350011  0.53558774  0.31691526]\n",
      " [-0.83720672  0.58604769  2.45551738]]\n"
     ]
    }
   ],
   "source": [
    "from numpy import random\n",
    "\n",
    "x = random.normal(size=(2, 3))\n",
    "\n",
    "print(x)"
   ]
  },
  {
   "cell_type": "code",
   "execution_count": 293,
   "id": "100173a8",
   "metadata": {},
   "outputs": [
    {
     "name": "stdout",
     "output_type": "stream",
     "text": [
      "[[ 2.42055941 -2.35851666  1.28584381]\n",
      " [ 4.73369794  1.41006484 -2.8702788 ]]\n"
     ]
    }
   ],
   "source": [
    "from numpy import random\n",
    "\n",
    "x = random.normal(loc=1, scale=2, size=(2, 3))\n",
    "\n",
    "print(x)"
   ]
  },
  {
   "cell_type": "code",
   "execution_count": 297,
   "id": "ec840970",
   "metadata": {},
   "outputs": [
    {
     "name": "stderr",
     "output_type": "stream",
     "text": [
      "C:\\Users\\91951\\anaconda3\\lib\\site-packages\\seaborn\\distributions.py:2619: FutureWarning: `distplot` is a deprecated function and will be removed in a future version. Please adapt your code to use either `displot` (a figure-level function with similar flexibility) or `kdeplot` (an axes-level function for kernel density plots).\n",
      "  warnings.warn(msg, FutureWarning)\n"
     ]
    },
    {
     "data": {
      "image/png": "[encoded data removed]",
      "text/plain": [
       "<Figure size 432x288 with 1 Axes>"
      ]
     },
     "metadata": {
      "needs_background": "light"
     },
     "output_type": "display_data"
    }
   ],
   "source": [
    "from numpy import random\n",
    "import matplotlib.pyplot as plt\n",
    "import seaborn as sns\n",
    "\n",
    "sns.distplot(random.normal(size=10), hist=False)\n",
    "\n",
    "plt.show()"
   ]
  },
  {
   "cell_type": "code",
   "execution_count": null,
   "id": "e59609f1",
   "metadata": {},
   "outputs": [],
   "source": []
  },
  {
   "cell_type": "code",
   "execution_count": null,
   "id": "bc71f9ca",
   "metadata": {},
   "outputs": [],
   "source": []
  }
 ],
 "metadata": {
  "kernelspec": {
   "display_name": "Python 3 (ipykernel)",
   "language": "python",
   "name": "python3"
  },
  "language_info": {
   "codemirror_mode": {
    "name": "ipython",
    "version": 3
   },
   "file_extension": ".py",
   "mimetype": "text/x-python",
   "name": "python",
   "nbconvert_exporter": "python",
   "pygments_lexer": "ipython3",
   "version": "3.9.7"
  }
 },
 "nbformat": 4,
 "nbformat_minor": 5
}
